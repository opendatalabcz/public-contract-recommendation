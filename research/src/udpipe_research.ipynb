{
 "cells": [
  {
   "cell_type": "code",
   "execution_count": 1,
   "metadata": {},
   "outputs": [],
   "source": [
    "from ufal.udpipe import *"
   ]
  },
  {
   "cell_type": "code",
   "execution_count": 2,
   "metadata": {},
   "outputs": [],
   "source": [
    "# load model from the given file;\n",
    "# if the file does not exist, expect a Segmentation fault\n",
    "model = Model.load(\"C:/x/diplomka/research/model/udpipe/udpipe-ud-2.5-191206/czech-pdt-ud-2.5-191206.udpipe\")"
   ]
  },
  {
   "cell_type": "code",
   "execution_count": 3,
   "metadata": {},
   "outputs": [],
   "source": [
    "# create a UDPipe processing pipeline with the loaded model,\n",
    "# with \"horizontal\" input (a sentence with space-separated tokens),\n",
    "# default setting for tagger and parser,\n",
    "# and CoNLL-U output\n",
    "pipeline = Pipeline(model, \"tokenize\", Pipeline.DEFAULT, Pipeline.DEFAULT, \"conllu\")"
   ]
  },
  {
   "cell_type": "code",
   "execution_count": 11,
   "metadata": {},
   "outputs": [],
   "source": [
    "# analyze a tokenized sentence with UDPipe\n",
    "# and print out the resulting CoNLL-U analysis\n",
    "conllu = pipeline.process(\"Máma mele maso.\")"
   ]
  },
  {
   "cell_type": "code",
   "execution_count": 24,
   "metadata": {},
   "outputs": [
    {
     "name": "stdout",
     "output_type": "stream",
     "text": [
      "# newdoc\n",
      "# newpar\n",
      "# sent_id = 1\n",
      "# text = Nejraději melu maso na hřišti s kamarády.\n",
      "1\tNejraději\traději\tADV\tDg-------3A----\tDegree=Sup|Polarity=Pos\t0\troot\t_\t_\n",
      "2\tmelu\tmela\tNOUN\tNNIS2-----A----\tAnimacy=Inan|Case=Gen|Gender=Masc|Number=Sing|Polarity=Pos\t1\tobl\t_\t_\n",
      "3\tmaso\tmaso\tNOUN\tNNNS1-----A----\tCase=Nom|Gender=Neut|Number=Sing|Polarity=Pos\t1\tdep\t_\t_\n",
      "4\tna\tna\tADP\tRR--6----------\tAdpType=Prep|Case=Loc\t5\tcase\t_\t_\n",
      "5\thřišti\thřiště\tNOUN\tNNNS6-----A----\tCase=Loc|Gender=Neut|Number=Sing|Polarity=Pos\t3\tnmod\t_\t_\n",
      "6\ts\ts\tADP\tRR--7----------\tAdpType=Prep|Case=Ins\t7\tcase\t_\t_\n",
      "7\tkamarády\tkamarád\tNOUN\tNNMP7-----A----\tAnimacy=Anim|Case=Ins|Gender=Masc|Number=Plur|Polarity=Pos\t3\tnmod\t_\tSpaceAfter=No\n",
      "8\t.\t.\tPUNCT\tZ:-------------\t_\t1\tpunct\t_\tSpacesAfter=\\n\n",
      "\n",
      "\n"
     ]
    }
   ],
   "source": [
    "# analyze a tokenized sentence with UDPipe\n",
    "# and print out the resulting CoNLL-U analysis\n",
    "print(pipeline.process(\"Nejraději melu maso na hřišti s kamarády.\"))"
   ]
  },
  {
   "cell_type": "code",
   "execution_count": 1,
   "metadata": {},
   "outputs": [],
   "source": [
    "import spacy_udpipe"
   ]
  },
  {
   "cell_type": "code",
   "execution_count": 5,
   "metadata": {},
   "outputs": [],
   "source": [
    "nlp = spacy_udpipe.load_from_path('cs','udpipe/udpipe-ud-2.4-190531/czech-pdt-ud-2.4-190531.udpipe')"
   ]
  },
  {
   "cell_type": "code",
   "execution_count": 7,
   "metadata": {},
   "outputs": [
    {
     "name": "stdout",
     "output_type": "stream",
     "text": [
      "Máma máma NOUN nmod\n",
      "mele mele NOUN nmod\n",
      "maso maso NOUN ROOT\n",
      ". . PUNCT punct\n"
     ]
    }
   ],
   "source": [
    "text = \"Máma mele maso.\"\n",
    "doc = nlp(text)\n",
    "for token in doc:\n",
    "    print(token.text, token.lemma_, token.pos_, token.dep_)"
   ]
  },
  {
   "cell_type": "code",
   "execution_count": 8,
   "metadata": {},
   "outputs": [],
   "source": [
    "from udapi.core.document import Document"
   ]
  },
  {
   "cell_type": "code",
   "execution_count": 9,
   "metadata": {},
   "outputs": [],
   "source": [
    "doc = Document()"
   ]
  },
  {
   "cell_type": "code",
   "execution_count": 12,
   "metadata": {},
   "outputs": [],
   "source": [
    "doc.from_conllu_string(conllu)"
   ]
  },
  {
   "cell_type": "code",
   "execution_count": 24,
   "metadata": {},
   "outputs": [],
   "source": [
    "node = doc.bundles[0].trees[0].descendants[-1]"
   ]
  },
  {
   "cell_type": "code",
   "execution_count": 48,
   "metadata": {},
   "outputs": [
    {
     "data": {
      "text/plain": [
       "['']"
      ]
     },
     "execution_count": 48,
     "metadata": {},
     "output_type": "execute_result"
    }
   ],
   "source": [
    "node.get_attrs(['feats[Case]'])"
   ]
  },
  {
   "cell_type": "code",
   "execution_count": 38,
   "metadata": {},
   "outputs": [
    {
     "name": "stdout",
     "output_type": "stream",
     "text": [
      "_\n"
     ]
    }
   ],
   "source": [
    "print(node.feats)"
   ]
  },
  {
   "cell_type": "code",
   "execution_count": 50,
   "metadata": {},
   "outputs": [
    {
     "name": "stdout",
     "output_type": "stream",
     "text": [
      "\n"
     ]
    }
   ],
   "source": [
    "try:\n",
    "    print(node._get_attr('feats[Case]'))\n",
    "except AttributeError:\n",
    "    pass"
   ]
  },
  {
   "cell_type": "code",
   "execution_count": 47,
   "metadata": {},
   "outputs": [
    {
     "name": "stdout",
     "output_type": "stream",
     "text": [
      "_\n"
     ]
    }
   ],
   "source": [
    "print(node.)"
   ]
  }
 ],
 "metadata": {
  "kernelspec": {
   "display_name": "researchenv",
   "language": "python",
   "name": "researchenv"
  },
  "language_info": {
   "codemirror_mode": {
    "name": "ipython",
    "version": 3
   },
   "file_extension": ".py",
   "mimetype": "text/x-python",
   "name": "python",
   "nbconvert_exporter": "python",
   "pygments_lexer": "ipython3",
   "version": "3.7.5"
  }
 },
 "nbformat": 4,
 "nbformat_minor": 2
}
