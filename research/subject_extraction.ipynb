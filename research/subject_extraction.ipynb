{
 "cells": [
  {
   "cell_type": "markdown",
   "metadata": {},
   "source": [
    "### Initialization"
   ]
  },
  {
   "cell_type": "code",
   "execution_count": 1,
   "metadata": {},
   "outputs": [],
   "source": [
    "import glob\n",
    "import json\n",
    "from nltk import tokenize\n",
    "# import textdistance\n",
    "import random\n",
    "import string\n",
    "import os\n",
    "import numpy\n",
    "import pandas\n",
    "import fasttext\n",
    "import gensim\n",
    "# import mxnet as mx\n",
    "# from mxnet import gluon\n",
    "# import gluonnlp as nlp\n",
    "# from elmoformanylangs import Embedder"
   ]
  },
  {
   "cell_type": "code",
   "execution_count": 6,
   "metadata": {},
   "outputs": [
    {
     "name": "stdout",
     "output_type": "stream",
     "text": [
      "showing info https://raw.githubusercontent.com/nltk/nltk_data/gh-pages/index.xml\n"
     ]
    },
    {
     "data": {
      "text/plain": [
       "True"
      ]
     },
     "execution_count": 6,
     "metadata": {},
     "output_type": "execute_result"
    }
   ],
   "source": [
    "import nltk\n",
    "nltk.download()"
   ]
  },
  {
   "cell_type": "code",
   "execution_count": 2,
   "metadata": {},
   "outputs": [],
   "source": [
    "def randomTokens():\n",
    "    \"\"\"Generate a random string of fixed length \"\"\"\n",
    "    tokensLength = int(random.gauss(4,2))+1\n",
    "    letters = string.ascii_lowercase\n",
    "    tokens = []\n",
    "    for _ in range(tokensLength):\n",
    "        stringLength = int(random.gauss(6,3)+1)\n",
    "        tokens.append(''.join(random.choice(letters) for i in range(stringLength)))\n",
    "    return tokens"
   ]
  },
  {
   "cell_type": "markdown",
   "metadata": {},
   "source": [
    "### Subject extraction"
   ]
  },
  {
   "cell_type": "code",
   "execution_count": 3,
   "metadata": {},
   "outputs": [],
   "source": [
    "class SubjectExtractor:\n",
    "    \n",
    "    def extract(self):\n",
    "        return ['ahoj jak se mas']\n",
    "\n",
    "class RandomSubjectExtractor(SubjectExtractor):\n",
    "    \n",
    "    def extract(self):\n",
    "        subjects_num = int(numpy.random.exponential())+1\n",
    "        return [randomTokens() for _ in range(subjects_num)]\n",
    "    \n",
    "class ReferenceSubjectExtractor(SubjectExtractor):\n",
    "    \n",
    "    _REF_FILENAME = '_ref.json'\n",
    "    _path = None\n",
    "    _ref = None\n",
    "    _ref_subjects = None\n",
    "    \n",
    "    def __init__(self, path):\n",
    "        self._path = path\n",
    "    \n",
    "    def extract(self):\n",
    "        filename = os.path.join(self._path, self._REF_FILENAME)\n",
    "        with open(filename, encoding='utf-8') as f:\n",
    "            data = f.read()\n",
    "            self._ref = json.loads(data)\n",
    "            self._ref_subjects = [item['name'] for item in self._ref['subject']['items']]\n",
    "        return self._ref_subjects"
   ]
  },
  {
   "cell_type": "markdown",
   "metadata": {},
   "source": [
    "### EvaluationMachine"
   ]
  },
  {
   "cell_type": "code",
   "execution_count": 4,
   "metadata": {},
   "outputs": [],
   "source": [
    "class EvaluationMachine:\n",
    "    \n",
    "    _core = None\n",
    "    _subjects = None\n",
    "    _ref_subjects = None\n",
    "    _similarity_matrix = None\n",
    "    \n",
    "    def __init__(self, core=None):\n",
    "        self._core = core\n",
    "    \n",
    "    def evaluateSubjects(self, subjects, ref_subjects):\n",
    "        self._subjects = [' '.join(s) if isinstance(s, list) else s for s in subjects]\n",
    "        self._ref_subjects = [' '.join(s) if isinstance(s, list) else s for s in ref_subjects]\n",
    "        return self.evaluate()\n",
    "    \n",
    "    def evaluate(self):\n",
    "        self.compute_matrix()\n",
    "        return self._similarity_matrix\n",
    "        \n",
    "    def compute_matrix(self):\n",
    "        sl = len(self._subjects)\n",
    "        rl = len(self._ref_subjects)\n",
    "        result_matrix = numpy.zeros((sl, rl))\n",
    "        for i in range(sl):\n",
    "            for j in range(rl):\n",
    "                d = self._core.compute(self._subjects[i], self._ref_subjects[j])\n",
    "                result_matrix[i][j] = d\n",
    "        self._similarity_matrix = result_matrix\n",
    "        \n",
    "    def display(self, with_headers=False):\n",
    "        if with_headers:\n",
    "            df = pandas.DataFrame(self._similarity_matrix, columns=self._ref_subjects, index=self._subjects)\n",
    "        else:\n",
    "            df = pandas.DataFrame(self._similarity_matrix)\n",
    "        display(df)\n",
    "        \n",
    "    \n",
    "class RandomEvaluationMachine(EvaluationMachine):\n",
    "    \n",
    "    def __init__(self, core=None):\n",
    "        super().__init__(RandomSimilarityMachine())\n",
    "        \n",
    "class JaccardEvaluationMachine(EvaluationMachine):\n",
    "\n",
    "    def __init__(self, core=None):\n",
    "        super().__init__(JaccardSimilarityMachine())\n",
    "        \n",
    "class FastTextEvaluationMachine(EvaluationMachine):\n",
    "    \n",
    "    def __init__(self, core=None):\n",
    "        super().__init__(FastTextSimilarityMachine(core))\n",
    "        \n",
    "class GensimFastTextEvaluationMachine(EvaluationMachine):\n",
    "    \n",
    "    def __init__(self, core=None):\n",
    "        super().__init__(GensimFastTextSimilarityMachine(core))"
   ]
  },
  {
   "cell_type": "markdown",
   "metadata": {},
   "source": [
    "### Similarity functions"
   ]
  },
  {
   "cell_type": "code",
   "execution_count": 5,
   "metadata": {},
   "outputs": [],
   "source": [
    "class SimilarityMachine:\n",
    "    \n",
    "    _text = None\n",
    "    _reference = None\n",
    "    _model = None\n",
    "    \n",
    "    def __init__(self, model=None):\n",
    "        self._model = model\n",
    "        \n",
    "    def init_case(self, text, reference):\n",
    "        self._text = text\n",
    "        self._reference = reference\n",
    "        \n",
    "    def preprocess(self):\n",
    "        None\n",
    "    \n",
    "    def compute(self, text, reference):\n",
    "        self.init_case(text, reference)\n",
    "        self.preprocess()\n",
    "        return self._inner_compute()\n",
    "    \n",
    "    def _inner_compute(self):\n",
    "        return 0.5\n",
    "    \n",
    "class RandomSimilarityMachine(SimilarityMachine):\n",
    "    \n",
    "    def _inner_compute(self):\n",
    "        return random.random()\n",
    "    \n",
    "class JaccardSimilarityMachine(SimilarityMachine):\n",
    "    \n",
    "    def preprocess(self):\n",
    "        if isinstance(self._text, str):\n",
    "            self._text = self._text.split()\n",
    "        if isinstance(self._reference, str):\n",
    "            self._reference = self._reference.split()        \n",
    "\n",
    "    def _inner_compute(self):\n",
    "        return textdistance.jaccard(self._text, self._reference)\n",
    "\n",
    "class SorensenDiceSimilarityMachine(JaccardSimilarityMachine):\n",
    "    \n",
    "    def _inner_compute(self):\n",
    "        return textdistance.sorensen_dice(self._text, self._reference)\n",
    "\n",
    "class FastTextSimilarityMachine(SimilarityMachine):\n",
    "    \n",
    "    def __init__(self, model=None):\n",
    "        if model is None:\n",
    "            path = 'fasttext/cc.cs.300.bin'\n",
    "            print('Loading fasttext model from ' + path)\n",
    "            model = fasttext.load_model(path)\n",
    "        super().__init__(model)\n",
    "    \n",
    "    def _inner_compute(self):\n",
    "        return 1/(numpy.linalg.norm(self._model[self._text] - self._model[self._reference])+1)\n",
    "    \n",
    "class GensimFastTextSimilarityMachine(SimilarityMachine):\n",
    "    \n",
    "    def __init__(self, model=None):\n",
    "        if model is None:\n",
    "            path = 'fasttext/cc.cs.300.bin'\n",
    "            print('Loading fasttext model from ' + path)\n",
    "            model = gensim.models.FastText.load_fasttext_format(path)\n",
    "        super().__init__(model)\n",
    "    \n",
    "    def _inner_compute(self):\n",
    "        return 1/(self._model.wmdistance(self._text, self._reference)+1)"
   ]
  },
  {
   "cell_type": "code",
   "execution_count": 7,
   "metadata": {},
   "outputs": [],
   "source": [
    "vzdirs = glob.glob('../dokumenty/*/*/*')"
   ]
  },
  {
   "cell_type": "markdown",
   "metadata": {},
   "source": [
    "### Measures"
   ]
  },
  {
   "cell_type": "markdown",
   "metadata": {},
   "source": [
    "### Playground"
   ]
  },
  {
   "cell_type": "code",
   "execution_count": 6,
   "metadata": {},
   "outputs": [],
   "source": [
    "vzdir = '../test-data/test_src/test_sub_01/test_contr_01'"
   ]
  },
  {
   "cell_type": "code",
   "execution_count": 7,
   "metadata": {},
   "outputs": [],
   "source": [
    "subjects = [\n",
    "    'stavební práce',\n",
    "    'montáž plošiny'\n",
    "]"
   ]
  },
  {
   "cell_type": "code",
   "execution_count": 14,
   "metadata": {},
   "outputs": [
    {
     "data": {
      "text/plain": [
       "['zpracování projektové dokumentace a vydání staveního povolení',\n",
       " 'stavební práce',\n",
       " 'dodávka a montáž plošiny']"
      ]
     },
     "execution_count": 14,
     "metadata": {},
     "output_type": "execute_result"
    }
   ],
   "source": [
    "refExtr = ReferenceSubjectExtractor(vzdir)\n",
    "refSubjects = refExtr.extract()\n",
    "refSubjects"
   ]
  },
  {
   "cell_type": "code",
   "execution_count": 15,
   "metadata": {},
   "outputs": [
    {
     "data": {
      "text/plain": [
       "[['nbtwzdanuq', 'spioogvb', 'uwoky', 'odp', 'azcicxmf']]"
      ]
     },
     "execution_count": 15,
     "metadata": {},
     "output_type": "execute_result"
    }
   ],
   "source": [
    "extr = RandomSubjectExtractor()\n",
    "subjects = extr.extract()\n",
    "subjects"
   ]
  },
  {
   "cell_type": "code",
   "execution_count": 16,
   "metadata": {},
   "outputs": [],
   "source": [
    "evalMachine = RandomEvaluationMachine()"
   ]
  },
  {
   "cell_type": "code",
   "execution_count": 17,
   "metadata": {},
   "outputs": [
    {
     "data": {
      "text/plain": [
       "array([[0.00403215, 0.90746506, 0.43651078]])"
      ]
     },
     "execution_count": 17,
     "metadata": {},
     "output_type": "execute_result"
    }
   ],
   "source": [
    "evalMachine.evaluateSubjects(subjects, refSubjects)"
   ]
  },
  {
   "cell_type": "code",
   "execution_count": 18,
   "metadata": {},
   "outputs": [
    {
     "data": {
      "text/html": [
       "<div>\n",
       "<style scoped>\n",
       "    .dataframe tbody tr th:only-of-type {\n",
       "        vertical-align: middle;\n",
       "    }\n",
       "\n",
       "    .dataframe tbody tr th {\n",
       "        vertical-align: top;\n",
       "    }\n",
       "\n",
       "    .dataframe thead th {\n",
       "        text-align: right;\n",
       "    }\n",
       "</style>\n",
       "<table border=\"1\" class=\"dataframe\">\n",
       "  <thead>\n",
       "    <tr style=\"text-align: right;\">\n",
       "      <th></th>\n",
       "      <th>zpracování projektové dokumentace a vydání staveního povolení</th>\n",
       "      <th>stavební práce</th>\n",
       "      <th>dodávka a montáž plošiny</th>\n",
       "    </tr>\n",
       "  </thead>\n",
       "  <tbody>\n",
       "    <tr>\n",
       "      <th>nbtwzdanuq spioogvb uwoky odp azcicxmf</th>\n",
       "      <td>0.004032</td>\n",
       "      <td>0.907465</td>\n",
       "      <td>0.436511</td>\n",
       "    </tr>\n",
       "  </tbody>\n",
       "</table>\n",
       "</div>"
      ],
      "text/plain": [
       "                                        zpracování projektové dokumentace a vydání staveního povolení  \\\n",
       "nbtwzdanuq spioogvb uwoky odp azcicxmf                                           0.004032               \n",
       "\n",
       "                                        stavební práce  \\\n",
       "nbtwzdanuq spioogvb uwoky odp azcicxmf        0.907465   \n",
       "\n",
       "                                        dodávka a montáž plošiny  \n",
       "nbtwzdanuq spioogvb uwoky odp azcicxmf                  0.436511  "
      ]
     },
     "metadata": {},
     "output_type": "display_data"
    }
   ],
   "source": [
    "evalMachine.display(True)"
   ]
  },
  {
   "cell_type": "code",
   "execution_count": 18,
   "metadata": {},
   "outputs": [],
   "source": [
    "evalMachine = JaccardEvaluationMachine()"
   ]
  },
  {
   "cell_type": "code",
   "execution_count": 19,
   "metadata": {},
   "outputs": [
    {
     "data": {
      "text/plain": [
       "array([[0. , 1. , 0. ],\n",
       "       [0. , 0. , 0.5]])"
      ]
     },
     "execution_count": 19,
     "metadata": {},
     "output_type": "execute_result"
    }
   ],
   "source": [
    "evalMachine.evaluateSubjects(subjects, refSubjects)"
   ]
  },
  {
   "cell_type": "code",
   "execution_count": 20,
   "metadata": {},
   "outputs": [
    {
     "data": {
      "text/html": [
       "<div>\n",
       "<style scoped>\n",
       "    .dataframe tbody tr th:only-of-type {\n",
       "        vertical-align: middle;\n",
       "    }\n",
       "\n",
       "    .dataframe tbody tr th {\n",
       "        vertical-align: top;\n",
       "    }\n",
       "\n",
       "    .dataframe thead th {\n",
       "        text-align: right;\n",
       "    }\n",
       "</style>\n",
       "<table border=\"1\" class=\"dataframe\">\n",
       "  <thead>\n",
       "    <tr style=\"text-align: right;\">\n",
       "      <th></th>\n",
       "      <th>zpracování projektové dokumentace a vydání staveního povolení</th>\n",
       "      <th>stavební práce</th>\n",
       "      <th>dodávka a montáž plošiny</th>\n",
       "    </tr>\n",
       "  </thead>\n",
       "  <tbody>\n",
       "    <tr>\n",
       "      <th>stavební práce</th>\n",
       "      <td>0.0</td>\n",
       "      <td>1.0</td>\n",
       "      <td>0.0</td>\n",
       "    </tr>\n",
       "    <tr>\n",
       "      <th>montáž plošiny</th>\n",
       "      <td>0.0</td>\n",
       "      <td>0.0</td>\n",
       "      <td>0.5</td>\n",
       "    </tr>\n",
       "  </tbody>\n",
       "</table>\n",
       "</div>"
      ],
      "text/plain": [
       "                zpracování projektové dokumentace a vydání staveního povolení  \\\n",
       "stavební práce                                                0.0               \n",
       "montáž plošiny                                                0.0               \n",
       "\n",
       "                stavební práce  dodávka a montáž plošiny  \n",
       "stavební práce             1.0                       0.0  \n",
       "montáž plošiny             0.0                       0.5  "
      ]
     },
     "metadata": {},
     "output_type": "display_data"
    }
   ],
   "source": [
    "evalMachine.display(True)"
   ]
  },
  {
   "cell_type": "code",
   "execution_count": 19,
   "metadata": {},
   "outputs": [
    {
     "name": "stdout",
     "output_type": "stream",
     "text": [
      "Loading fasttext model from fasttext/cc.cs.300.bin\n"
     ]
    },
    {
     "name": "stderr",
     "output_type": "stream",
     "text": [
      "\n"
     ]
    },
    {
     "data": {
      "text/plain": [
       "<__main__.FastTextEvaluationMachine at 0x1e38b3b6088>"
      ]
     },
     "execution_count": 19,
     "metadata": {},
     "output_type": "execute_result"
    }
   ],
   "source": [
    "fasttextEval = FastTextEvaluationMachine()\n",
    "fasttextEval"
   ]
  },
  {
   "cell_type": "code",
   "execution_count": 20,
   "metadata": {},
   "outputs": [
    {
     "data": {
      "text/plain": [
       "array([[0.88092765, 0.79895507, 0.81048434]])"
      ]
     },
     "execution_count": 20,
     "metadata": {},
     "output_type": "execute_result"
    }
   ],
   "source": [
    "fasttextEval.evaluateSubjects(subjects, refSubjects)"
   ]
  },
  {
   "cell_type": "code",
   "execution_count": 21,
   "metadata": {},
   "outputs": [
    {
     "data": {
      "text/html": [
       "<div>\n",
       "<style scoped>\n",
       "    .dataframe tbody tr th:only-of-type {\n",
       "        vertical-align: middle;\n",
       "    }\n",
       "\n",
       "    .dataframe tbody tr th {\n",
       "        vertical-align: top;\n",
       "    }\n",
       "\n",
       "    .dataframe thead th {\n",
       "        text-align: right;\n",
       "    }\n",
       "</style>\n",
       "<table border=\"1\" class=\"dataframe\">\n",
       "  <thead>\n",
       "    <tr style=\"text-align: right;\">\n",
       "      <th></th>\n",
       "      <th>zpracování projektové dokumentace a vydání staveního povolení</th>\n",
       "      <th>stavební práce</th>\n",
       "      <th>dodávka a montáž plošiny</th>\n",
       "    </tr>\n",
       "  </thead>\n",
       "  <tbody>\n",
       "    <tr>\n",
       "      <th>nbtwzdanuq spioogvb uwoky odp azcicxmf</th>\n",
       "      <td>0.880928</td>\n",
       "      <td>0.798955</td>\n",
       "      <td>0.810484</td>\n",
       "    </tr>\n",
       "  </tbody>\n",
       "</table>\n",
       "</div>"
      ],
      "text/plain": [
       "                                        zpracování projektové dokumentace a vydání staveního povolení  \\\n",
       "nbtwzdanuq spioogvb uwoky odp azcicxmf                                           0.880928               \n",
       "\n",
       "                                        stavební práce  \\\n",
       "nbtwzdanuq spioogvb uwoky odp azcicxmf        0.798955   \n",
       "\n",
       "                                        dodávka a montáž plošiny  \n",
       "nbtwzdanuq spioogvb uwoky odp azcicxmf                  0.810484  "
      ]
     },
     "metadata": {},
     "output_type": "display_data"
    }
   ],
   "source": [
    "fasttextEval.display(True)"
   ]
  },
  {
   "cell_type": "code",
   "execution_count": 25,
   "metadata": {},
   "outputs": [
    {
     "name": "stderr",
     "output_type": "stream",
     "text": [
      "2019-11-11 00:11:00,578 INFO: loading 2000000 words for fastText model from fasttext/cc.cs.300.bin\n"
     ]
    },
    {
     "name": "stdout",
     "output_type": "stream",
     "text": [
      "Loading fasttext model from fasttext/cc.cs.300.bin\n"
     ]
    },
    {
     "name": "stderr",
     "output_type": "stream",
     "text": [
      "2019-11-11 00:23:49,056 INFO: loading weights for 2000000 words for fastText model from fasttext/cc.cs.300.bin\n",
      "2019-11-11 00:27:13,913 INFO: loaded (2000000, 300) weight matrix for fastText model from fasttext/cc.cs.300.bin\n"
     ]
    },
    {
     "data": {
      "text/plain": [
       "<__main__.GensimFastTextEvaluationMachine at 0x1f5683de888>"
      ]
     },
     "execution_count": 25,
     "metadata": {},
     "output_type": "execute_result"
    }
   ],
   "source": [
    "gensimFTEval = GensimFastTextEvaluationMachine()\n",
    "gensimFTEval"
   ]
  },
  {
   "cell_type": "code",
   "execution_count": 26,
   "metadata": {},
   "outputs": [
    {
     "name": "stderr",
     "output_type": "stream",
     "text": [
      "c:\\users\\mvancl\\documents\\temp\\diplomka\\research\\pcrenv64\\lib\\site-packages\\ipykernel_launcher.py:68: DeprecationWarning: Call to deprecated `wmdistance` (Method will be removed in 4.0.0, use self.wv.wmdistance() instead).\n",
      "2019-11-11 00:27:14,991 INFO: Removed 1 and 6 OOV words from document 1 and 2 (respectively).\n",
      "2019-11-11 00:27:14,998 INFO: adding document #0 to Dictionary(0 unique tokens: [])\n",
      "2019-11-11 00:27:15,004 INFO: built Dictionary(23 unique tokens: ['a', 'b', 'c', 'e', 'n']...) from 2 documents (total 68 corpus positions)\n",
      "2019-11-11 00:27:15,075 INFO: Removed 1 and 1 OOV words from document 1 and 2 (respectively).\n",
      "2019-11-11 00:27:15,077 INFO: adding document #0 to Dictionary(0 unique tokens: [])\n",
      "2019-11-11 00:27:15,078 INFO: built Dictionary(12 unique tokens: ['a', 'b', 'c', 'e', 'n']...) from 2 documents (total 26 corpus positions)\n",
      "2019-11-11 00:27:15,089 INFO: Removed 1 and 3 OOV words from document 1 and 2 (respectively).\n",
      "2019-11-11 00:27:15,089 INFO: adding document #0 to Dictionary(0 unique tokens: [])\n",
      "2019-11-11 00:27:15,090 INFO: built Dictionary(21 unique tokens: ['a', 'b', 'c', 'e', 'n']...) from 2 documents (total 34 corpus positions)\n",
      "2019-11-11 00:27:15,109 INFO: Removed 1 and 6 OOV words from document 1 and 2 (respectively).\n",
      "2019-11-11 00:27:15,111 INFO: adding document #0 to Dictionary(0 unique tokens: [])\n",
      "2019-11-11 00:27:15,111 INFO: built Dictionary(25 unique tokens: ['i', 'l', 'm', 'n', 'o']...) from 2 documents (total 68 corpus positions)\n",
      "2019-11-11 00:27:15,127 INFO: Removed 1 and 1 OOV words from document 1 and 2 (respectively).\n",
      "2019-11-11 00:27:15,128 INFO: adding document #0 to Dictionary(0 unique tokens: [])\n",
      "2019-11-11 00:27:15,130 INFO: built Dictionary(19 unique tokens: ['i', 'l', 'm', 'n', 'o']...) from 2 documents (total 26 corpus positions)\n",
      "2019-11-11 00:27:15,137 INFO: Removed 1 and 3 OOV words from document 1 and 2 (respectively).\n",
      "2019-11-11 00:27:15,138 INFO: adding document #0 to Dictionary(0 unique tokens: [])\n",
      "2019-11-11 00:27:15,139 INFO: built Dictionary(15 unique tokens: ['i', 'l', 'm', 'n', 'o']...) from 2 documents (total 34 corpus positions)\n"
     ]
    },
    {
     "data": {
      "text/plain": [
       "array([[0.47409022, 1.        , 0.36634691],\n",
       "       [0.38345893, 0.34563655, 0.53334089]])"
      ]
     },
     "execution_count": 26,
     "metadata": {},
     "output_type": "execute_result"
    }
   ],
   "source": [
    "gensimFTEval.evaluateSubjects(subjects, refSubjects)"
   ]
  },
  {
   "cell_type": "code",
   "execution_count": 27,
   "metadata": {},
   "outputs": [
    {
     "data": {
      "text/html": [
       "<div>\n",
       "<style scoped>\n",
       "    .dataframe tbody tr th:only-of-type {\n",
       "        vertical-align: middle;\n",
       "    }\n",
       "\n",
       "    .dataframe tbody tr th {\n",
       "        vertical-align: top;\n",
       "    }\n",
       "\n",
       "    .dataframe thead th {\n",
       "        text-align: right;\n",
       "    }\n",
       "</style>\n",
       "<table border=\"1\" class=\"dataframe\">\n",
       "  <thead>\n",
       "    <tr style=\"text-align: right;\">\n",
       "      <th></th>\n",
       "      <th>zpracování projektové dokumentace a vydání staveního povolení</th>\n",
       "      <th>stavební práce</th>\n",
       "      <th>dodávka a montáž plošiny</th>\n",
       "    </tr>\n",
       "  </thead>\n",
       "  <tbody>\n",
       "    <tr>\n",
       "      <th>stavební práce</th>\n",
       "      <td>0.474090</td>\n",
       "      <td>1.000000</td>\n",
       "      <td>0.366347</td>\n",
       "    </tr>\n",
       "    <tr>\n",
       "      <th>montáž plošiny</th>\n",
       "      <td>0.383459</td>\n",
       "      <td>0.345637</td>\n",
       "      <td>0.533341</td>\n",
       "    </tr>\n",
       "  </tbody>\n",
       "</table>\n",
       "</div>"
      ],
      "text/plain": [
       "                zpracování projektové dokumentace a vydání staveního povolení  \\\n",
       "stavební práce                                           0.474090               \n",
       "montáž plošiny                                           0.383459               \n",
       "\n",
       "                stavební práce  dodávka a montáž plošiny  \n",
       "stavební práce        1.000000                  0.366347  \n",
       "montáž plošiny        0.345637                  0.533341  "
      ]
     },
     "metadata": {},
     "output_type": "display_data"
    }
   ],
   "source": [
    "gensimFTEval.display(True)"
   ]
  },
  {
   "cell_type": "code",
   "execution_count": 30,
   "metadata": {},
   "outputs": [],
   "source": [
    "ftmodel = gensimFTEval._core._model"
   ]
  },
  {
   "cell_type": "code",
   "execution_count": 41,
   "metadata": {},
   "outputs": [
    {
     "name": "stderr",
     "output_type": "stream",
     "text": [
      "c:\\users\\mvancl\\documents\\temp\\diplomka\\research\\pcrenv64\\lib\\site-packages\\ipykernel_launcher.py:1: DeprecationWarning: Call to deprecated `wmdistance` (Method will be removed in 4.0.0, use self.wv.wmdistance() instead).\n",
      "  \"\"\"Entry point for launching an IPython kernel.\n",
      "2019-11-13 15:34:38,074 INFO: Removed 1 and 0 OOV words from document 1 and 2 (respectively).\n",
      "2019-11-13 15:34:38,077 INFO: adding document #0 to Dictionary(0 unique tokens: [])\n",
      "2019-11-13 15:34:38,080 INFO: built Dictionary(13 unique tokens: ['M', 'Z', 'a', 'e', 'i']...) from 2 documents (total 15 corpus positions)\n"
     ]
    },
    {
     "data": {
      "text/plain": [
       "2.4152138310925486"
      ]
     },
     "execution_count": 41,
     "metadata": {},
     "output_type": "execute_result"
    }
   ],
   "source": [
    "ftmodel.wmdistance('Miloš Zeman', 'Praha')"
   ]
  },
  {
   "cell_type": "code",
   "execution_count": 8,
   "metadata": {
    "scrolled": true
   },
   "outputs": [
    {
     "name": "stderr",
     "output_type": "stream",
     "text": [
      "\n"
     ]
    },
    {
     "data": {
      "text/plain": [
       "array([-0.05804337, -0.03683203, -0.01250542,  0.01675747,  0.06488278,\n",
       "        0.0722379 ,  0.02369922, -0.03951797,  0.0249566 , -0.09510952,\n",
       "        0.05870747,  0.03974752,  0.00672182, -0.00674034, -0.06719575,\n",
       "        0.0631699 , -0.02813651, -0.03256127, -0.0369756 , -0.00069492,\n",
       "        0.08782576,  0.00062506, -0.00337796, -0.05085486, -0.06829706,\n",
       "        0.04374601,  0.01159262, -0.08052534, -0.05211427, -0.04039497,\n",
       "       -0.08473791, -0.03656073,  0.01781434, -0.10210821,  0.08074468,\n",
       "       -0.02363156,  0.01540139,  0.05923993, -0.04091276,  0.09380479,\n",
       "       -0.0570371 , -0.01719799, -0.09991248,  0.20365804, -0.13507062,\n",
       "       -0.04401433, -0.08736669,  0.10895465, -0.0104823 ,  0.03327014,\n",
       "       -0.00188187, -0.0121702 ,  0.11516406,  0.13058259,  0.06168722,\n",
       "        0.0542936 ,  0.07715475,  0.06375038,  0.09789898,  0.09845754,\n",
       "       -0.01105744,  0.00291643, -0.00809658, -0.04786212, -0.06753337,\n",
       "        0.03914187, -0.138804  , -0.12774865,  0.00028894, -0.07481199,\n",
       "        0.05867472, -0.12606052,  0.06683495, -0.06660815, -0.11768885,\n",
       "        0.04227084, -0.04712921,  0.09117433,  0.01582791,  0.09607649,\n",
       "       -0.17577857, -0.0602981 , -0.05011955, -0.10135191,  0.09346063,\n",
       "       -0.05988031, -0.01135771, -0.07854515, -0.12610063,  0.04564549,\n",
       "        0.08373605,  0.03986076, -0.06849476, -0.03000722, -0.12424768,\n",
       "       -0.01770937,  0.0426015 ,  0.09181374,  0.05390924, -0.02261976,\n",
       "        0.0550907 ,  0.121248  , -0.04953459, -0.09650077, -0.12114412,\n",
       "       -0.00072856,  0.07826422,  0.11637463,  0.13401547,  0.01281656,\n",
       "        0.16343725, -0.0135874 , -0.09968482, -0.09572449, -0.18731123,\n",
       "        0.11881083, -0.14400886, -0.04687596,  0.12934001, -0.03245946,\n",
       "       -0.06488302,  0.01790887, -0.0845658 , -0.04909249, -0.07007205,\n",
       "       -0.02755306, -0.12519045,  0.01676053, -0.08660875, -0.10388894,\n",
       "       -0.02361899, -0.00241363, -0.12492896,  0.1983608 ,  0.08685683,\n",
       "        0.06613871,  0.06534499,  0.06343575, -0.03076053,  0.01573769,\n",
       "        0.01311666, -0.11298992,  0.02299909,  0.01008106,  0.03502099,\n",
       "        0.02084201, -0.00234306,  0.05157049, -0.2513699 , -0.0348374 ,\n",
       "       -0.2253446 ,  0.16883652, -0.02817295, -0.08915672,  0.05067915,\n",
       "        0.0568991 , -0.09424457, -0.01874887,  0.03070673,  0.03397828,\n",
       "       -0.01282102,  0.08869932,  0.06461085,  0.09569538,  0.06565242,\n",
       "        0.12931459, -0.01156817, -0.15824449, -0.04069265, -0.05548227,\n",
       "        0.01383519, -0.05757558,  0.12200851, -0.07184754,  0.01360203,\n",
       "       -0.00768773,  0.01304114,  0.02557111,  0.05592285,  0.03429692,\n",
       "        0.05662252, -0.03495573,  0.02593999, -0.01897198, -0.01248218,\n",
       "       -0.04853698, -0.19941793,  0.12998325,  0.11370742,  0.00946053,\n",
       "        0.105726  ,  0.01716105,  0.06168068,  0.14877942,  0.03950771,\n",
       "        0.01001064, -0.01756296,  0.01595571, -0.05532856,  0.02534086,\n",
       "        0.07126481, -0.20547315,  0.023566  ,  0.03846517, -0.09526276,\n",
       "        0.04179312,  0.08663323,  0.07023276,  0.05786992,  0.08343067,\n",
       "        0.03150947, -0.01856695,  0.01425705,  0.16089953, -0.01071418,\n",
       "        0.07209506, -0.00714469, -0.11922026, -0.11460268, -0.06676022,\n",
       "        0.07786201,  0.10896976, -0.04490014,  0.00674273,  0.01701256,\n",
       "        0.07158956, -0.04836766,  0.00158517,  0.06265845,  0.0182447 ,\n",
       "        0.09966554,  0.06077863, -0.03991726, -0.04661421,  0.06790234,\n",
       "       -0.03826863,  0.01123313, -0.04669137,  0.11605987,  0.09317474,\n",
       "       -0.07489564, -0.08484163,  0.0510427 ,  0.11667692, -0.02635138,\n",
       "        0.05748932, -0.01329705, -0.01432373,  0.09384062,  0.08612298,\n",
       "        0.15141991,  0.11312397, -0.06197835, -0.10148145,  0.04341178,\n",
       "        0.13949355,  0.07898637,  0.09612994,  0.04329562, -0.00182295,\n",
       "        0.05521611,  0.12014222, -0.02393993,  0.01274326,  0.09111765,\n",
       "        0.18292245,  0.04584189, -0.05557054, -0.02982328, -0.02886925,\n",
       "        0.01244417, -0.11183167, -0.02947387,  0.1451147 ,  0.02740761,\n",
       "       -0.07206794,  0.03300419,  0.00908692, -0.08562233,  0.07775856,\n",
       "       -0.01877152,  0.05568726, -0.07356824,  0.05043555,  0.0674959 ,\n",
       "       -0.1201784 ,  0.08070908,  0.0931766 ,  0.01967469, -0.03055797,\n",
       "        0.05644353,  0.06980996,  0.01493646, -0.07078536,  0.06848791,\n",
       "        0.08873262,  0.02555236,  0.03479267,  0.05208894,  0.050911  ],\n",
       "      dtype=float32)"
      ]
     },
     "execution_count": 8,
     "metadata": {},
     "output_type": "execute_result"
    }
   ],
   "source": [
    "ftmodel2 = fasttext.load_model('fasttext/cc.cs.300.bin')\n",
    "ftmodel2['paper']"
   ]
  },
  {
   "cell_type": "code",
   "execution_count": 24,
   "metadata": {
    "scrolled": true
   },
   "outputs": [
    {
     "data": {
      "text/plain": [
       "array([ 3.50985974e-02, -5.04605472e-03, -3.19778845e-02, -1.27138332e-01,\n",
       "        6.54838160e-02, -2.35059354e-02,  2.33508229e-01, -2.17888355e-02,\n",
       "       -2.19157338e-01,  1.16614953e-01, -8.44471455e-02, -8.51622447e-02,\n",
       "       -4.71264981e-02,  1.27684444e-01, -9.18781906e-02, -1.50643975e-01,\n",
       "        1.22504547e-01,  8.26932788e-02,  8.27983394e-02, -8.30178112e-02,\n",
       "       -1.21429674e-02,  5.07118218e-02,  6.97170198e-03, -1.69049148e-02,\n",
       "       -6.02188446e-02, -1.14216186e-01, -2.02800602e-01,  1.75772738e-02,\n",
       "       -3.10905203e-02, -2.98842639e-02, -2.57130146e-01,  8.87810886e-02,\n",
       "        1.25467218e-02, -1.39928788e-01,  1.48580834e-01,  3.87761667e-02,\n",
       "       -4.27381434e-02,  5.04903495e-03,  1.24494880e-01,  4.74659577e-02,\n",
       "       -1.14616990e-01, -1.00901842e-01,  2.84647904e-02,  1.85851216e-01,\n",
       "        1.17499620e-01,  8.86817053e-02, -2.28305936e-01, -8.30656365e-02,\n",
       "       -1.01898253e-01, -7.16145039e-02,  2.15689898e-01, -1.80715859e-01,\n",
       "       -4.38175946e-02,  2.19017074e-01,  6.22998923e-05,  2.41400972e-01,\n",
       "        1.67249478e-02, -6.57361075e-02,  1.49134040e-01,  5.85451350e-02,\n",
       "        9.93824080e-02,  4.64422069e-02,  1.16556264e-01, -9.07933041e-02,\n",
       "       -7.71034732e-02, -4.47699875e-02,  4.55765389e-02, -1.51353851e-02,\n",
       "       -2.35770956e-01, -2.37063486e-02,  6.47841915e-02,  4.95981798e-02,\n",
       "        7.64106214e-02, -5.05683571e-03,  4.24859151e-02, -2.40539014e-03,\n",
       "        1.65730761e-03,  2.74378955e-02,  5.69395721e-02, -1.44708022e-01,\n",
       "        1.81393981e-01,  8.98058787e-02, -1.29189909e-01,  4.04758193e-02,\n",
       "        2.79686414e-04,  9.59414691e-02,  1.13064736e-01, -3.24025452e-02,\n",
       "       -3.72551084e-02,  7.10211471e-02, -1.69242173e-02,  5.89372478e-02,\n",
       "        4.54556644e-02,  1.96194053e-01, -1.70929655e-01, -1.79337673e-02,\n",
       "        4.01374102e-01,  1.05400216e-02, -5.05161360e-02, -7.42295906e-02,\n",
       "        1.73075959e-01, -1.15885111e-02, -2.06374407e-01, -1.30020112e-01,\n",
       "       -1.19318962e-01, -5.53655885e-02,  9.77233127e-02, -9.73613709e-02,\n",
       "        4.50758822e-02,  2.00380292e-02, -4.89406735e-02,  1.94564834e-01,\n",
       "        1.80116519e-01,  1.24847844e-01, -7.91177601e-02, -8.83614868e-02,\n",
       "        1.02433443e-01, -2.08474129e-01, -1.98084518e-01,  2.39725158e-01,\n",
       "       -8.54597688e-02,  1.60223059e-02, -2.42617965e-01, -9.39173698e-02,\n",
       "       -1.13149725e-01,  9.48013887e-02, -6.57596141e-02, -1.06625132e-01,\n",
       "       -2.03487724e-01, -1.08648866e-01, -9.18199960e-03,  1.27231210e-01,\n",
       "        6.16880581e-02,  4.49162394e-01, -1.13028839e-01, -3.41399796e-02,\n",
       "        7.84417987e-03,  1.65540874e-01, -1.15509704e-01, -6.29293472e-02,\n",
       "       -2.92816442e-02,  5.64262271e-03,  5.51455170e-02, -1.63624585e-02,\n",
       "       -1.37173608e-01, -2.45960765e-02,  3.87738422e-02, -1.00733012e-01,\n",
       "       -2.53676206e-01, -2.48956103e-02,  1.21378541e-01,  2.75203198e-01,\n",
       "       -3.70464474e-02,  1.87834546e-01, -1.37482844e-02, -1.77106693e-01,\n",
       "        8.37410241e-02, -1.28921747e-01, -8.70832801e-03,  3.57788131e-02,\n",
       "        5.83723709e-02, -5.90776652e-02, -5.73389828e-02,  2.76890676e-02,\n",
       "        9.41762552e-02, -1.48787171e-01,  6.49356917e-02,  1.13538399e-01,\n",
       "       -5.38046435e-02, -9.07550454e-02,  1.26078576e-01, -4.74537127e-02,\n",
       "        5.76848537e-02,  1.51152551e-01,  1.56198908e-03, -3.22010219e-02,\n",
       "       -1.02932669e-01,  1.58506200e-01, -6.59072623e-02,  2.18619511e-01,\n",
       "        1.14233121e-01,  7.15726092e-02, -2.00989872e-01,  2.97171697e-02,\n",
       "       -2.69099146e-01, -5.76225147e-02, -8.89930055e-02, -1.53588086e-01,\n",
       "        2.07584992e-01, -1.16492458e-01, -2.75137961e-01,  8.63742679e-02,\n",
       "       -1.60706267e-02, -1.01487890e-01,  1.21783391e-01,  8.18073750e-04,\n",
       "       -3.88231762e-02,  3.04146484e-02, -1.53798923e-01, -3.76264192e-02,\n",
       "       -1.44946456e-01, -9.59800184e-02,  1.19090907e-01, -8.12590029e-03,\n",
       "        1.23342440e-01,  6.22441806e-02, -1.36182252e-02,  1.40743032e-02,\n",
       "       -2.15295833e-02,  1.77176818e-02,  1.13945827e-02,  4.61224839e-02,\n",
       "        1.67633757e-01, -4.99510989e-02, -1.14618942e-01, -1.65457383e-01,\n",
       "       -3.40730734e-02,  1.08211990e-02, -1.33259967e-01, -1.41542435e-01,\n",
       "       -8.02626535e-02, -3.22142988e-02,  2.81711578e-01, -1.77232414e-01,\n",
       "       -2.21743256e-01,  1.36498347e-01,  1.46697938e-01, -2.46816352e-02,\n",
       "        8.51113051e-02,  1.40988991e-01, -2.13731930e-01,  5.69234639e-02,\n",
       "        1.37594819e-01, -1.20007239e-01,  1.38476625e-01, -4.45684120e-02,\n",
       "       -3.42069976e-02, -8.92716050e-02, -6.86814189e-02,  1.36616051e-01,\n",
       "       -3.83943208e-02, -5.56033626e-02, -1.55602828e-01, -9.73918438e-02,\n",
       "       -2.03409672e-01,  2.09714055e-01,  1.64194912e-01,  1.56519711e-02,\n",
       "        7.37885162e-02,  8.62235427e-02,  7.11186677e-02,  1.30960211e-01,\n",
       "       -6.58021495e-03,  8.96521471e-03,  9.43394303e-02, -1.32120252e-01,\n",
       "        1.18787564e-01, -4.73969281e-02, -2.06437662e-01,  3.57598066e-02,\n",
       "       -7.92543665e-02,  4.45474610e-02,  1.06555872e-01,  8.80909860e-02,\n",
       "        9.29579325e-03, -9.34863240e-02,  1.99982613e-01, -4.11432907e-02,\n",
       "       -1.78724736e-01, -1.45236999e-01, -2.71314532e-01,  1.39984459e-01,\n",
       "       -1.94711700e-01,  2.47139931e-02,  1.46591812e-02, -5.96491471e-02,\n",
       "        1.22817513e-02, -4.56624851e-03, -1.37520097e-02, -2.51317676e-03,\n",
       "       -7.94559717e-04,  1.80566221e-01,  7.74134398e-02,  9.49188471e-02,\n",
       "       -9.41635668e-03,  2.25488707e-01,  1.04366481e-01, -6.31920248e-02,\n",
       "        7.71615356e-02,  3.74705717e-02,  8.46064184e-03, -4.18817177e-02,\n",
       "        1.77201163e-02, -1.18537217e-01, -2.44338736e-02, -7.42758662e-02,\n",
       "        5.28093167e-02,  2.26355702e-01,  3.93233821e-02, -3.22426669e-02],\n",
       "      dtype=float32)"
      ]
     },
     "execution_count": 24,
     "metadata": {},
     "output_type": "execute_result"
    }
   ],
   "source": [
    "ftmodel2.get_word_vector('pes')"
   ]
  },
  {
   "cell_type": "code",
   "execution_count": 23,
   "metadata": {
    "scrolled": true
   },
   "outputs": [
    {
     "data": {
      "text/plain": [
       "array([ 1.70342829e-02, -2.44898442e-03, -1.55197177e-02, -6.17036112e-02,\n",
       "        3.17810364e-02, -1.14080552e-02,  1.13327749e-01, -1.05747012e-02,\n",
       "       -1.06362887e-01,  5.65963387e-02, -4.09844443e-02, -4.13315035e-02,\n",
       "       -2.28717420e-02,  6.19686544e-02, -4.45909277e-02, -7.31115267e-02,\n",
       "        5.94547130e-02,  4.01332453e-02,  4.01842371e-02, -4.02907506e-02,\n",
       "       -5.89330494e-03,  2.46117953e-02,  3.38355242e-03, -8.20440426e-03,\n",
       "       -2.92258058e-02, -5.54321520e-02, -9.84245241e-02,  8.53071827e-03,\n",
       "       -1.50890565e-02, -1.45036280e-02, -1.24792099e-01,  4.30878215e-02,\n",
       "        6.08925754e-03, -6.79111630e-02,  7.21102282e-02,  1.88191049e-02,\n",
       "       -2.07419582e-02,  2.45043100e-03,  6.04206771e-02,  2.30364911e-02,\n",
       "       -5.56266718e-02, -4.89703454e-02,  1.38147194e-02,  9.01985392e-02,\n",
       "        5.70256896e-02,  4.30395901e-02, -1.10802941e-01, -4.03139628e-02,\n",
       "       -4.94539328e-02, -3.47564220e-02,  1.04680039e-01, -8.77062082e-02,\n",
       "       -2.12658439e-02,  1.06294811e-01,  3.02357948e-05,  1.17158309e-01,\n",
       "        8.11706204e-03, -3.19034792e-02,  7.23787174e-02,  2.84135100e-02,\n",
       "        4.82329242e-02,  2.25396380e-02,  5.65678552e-02, -4.40644063e-02,\n",
       "       -3.74203660e-02, -2.17280649e-02,  2.21195053e-02, -7.34560471e-03,\n",
       "       -1.14425912e-01, -1.15053216e-02,  3.14414911e-02,  2.40713153e-02,\n",
       "        3.70841064e-02, -2.45421682e-03,  2.06195451e-02, -1.16739981e-03,\n",
       "        8.04335461e-04,  1.33163398e-02,  2.76342891e-02, -7.02306479e-02,\n",
       "        8.80353227e-02,  4.35851812e-02, -6.26992956e-02,  1.96439922e-02,\n",
       "        1.35739247e-04,  4.65629473e-02,  5.48733212e-02, -1.57258175e-02,\n",
       "       -1.80808939e-02,  3.44684497e-02, -8.21377244e-03,  2.86038127e-02,\n",
       "        2.20608432e-02,  9.52181891e-02, -8.29567090e-02, -8.70373379e-03,\n",
       "        1.94797531e-01,  5.11535257e-03, -2.45168246e-02, -3.60255949e-02,\n",
       "        8.39983672e-02, -5.62421232e-03, -1.00158989e-01, -6.31022155e-02,\n",
       "       -5.79086654e-02, -2.68703923e-02,  4.74277213e-02, -4.72520627e-02,\n",
       "        2.18765233e-02,  9.72498860e-03, -2.37522107e-02,  9.44274887e-02,\n",
       "        8.74153376e-02,  6.05919771e-02, -3.83979529e-02, -4.28841785e-02,\n",
       "        4.97136749e-02, -1.01178035e-01, -9.61356834e-02,  1.16344996e-01,\n",
       "       -4.14758995e-02,  7.77605129e-03, -1.17748946e-01, -4.55805957e-02,\n",
       "       -5.49145713e-02,  4.60096337e-02, -3.19148898e-02, -5.17480113e-02,\n",
       "       -9.87580046e-02, -5.27301840e-02, -4.45626862e-03,  6.17486909e-02,\n",
       "        2.99388543e-02,  2.17990458e-01, -5.48559017e-02, -1.65690407e-02,\n",
       "        3.80698894e-03,  8.03413913e-02, -5.60599305e-02, -3.05412859e-02,\n",
       "       -1.42111601e-02,  2.73851492e-03,  2.67635863e-02, -7.94113614e-03,\n",
       "       -6.65739998e-02, -1.19371302e-02,  1.88179761e-02, -4.88884076e-02,\n",
       "       -1.23115808e-01, -1.20825013e-02,  5.89082316e-02,  1.33563429e-01,\n",
       "       -1.79796256e-02,  9.11611021e-02, -6.67240797e-03, -8.59545842e-02,\n",
       "        4.06417437e-02, -6.25691488e-02, -4.22638329e-03,  1.73644088e-02,\n",
       "        2.83296630e-02, -2.86719613e-02, -2.78281327e-02,  1.34382406e-02,\n",
       "        4.57062423e-02, -7.22103715e-02,  3.15150172e-02,  5.51032051e-02,\n",
       "       -2.61128247e-02, -4.40458357e-02,  6.11892864e-02, -2.30305493e-02,\n",
       "        2.79959925e-02,  7.33583495e-02,  7.58074806e-04, -1.56280119e-02,\n",
       "       -4.99559604e-02,  7.69272745e-02, -3.19865458e-02,  1.06101863e-01,\n",
       "        5.54403700e-02,  3.47360894e-02, -9.75457281e-02,  1.44225322e-02,\n",
       "       -1.30600974e-01, -2.79657394e-02, -4.31906730e-02, -7.45403841e-02,\n",
       "        1.00746512e-01, -5.65368868e-02, -1.33531764e-01,  4.19197306e-02,\n",
       "       -7.79950246e-03, -4.92547713e-02,  5.91047183e-02,  3.97032942e-04,\n",
       "       -1.88419204e-02,  1.47610372e-02, -7.46427029e-02, -1.82611011e-02,\n",
       "       -7.03463703e-02, -4.65816557e-02,  5.77979833e-02, -3.94371524e-03,\n",
       "        5.98613657e-02,  3.02087553e-02, -6.60928665e-03,  6.83063362e-03,\n",
       "       -1.04488796e-02,  8.59886222e-03,  5.53009380e-03,  2.23844685e-02,\n",
       "        8.13571215e-02, -2.42425967e-02, -5.56276217e-02, -8.03008676e-02,\n",
       "       -1.65365692e-02,  5.25181554e-03, -6.46746084e-02, -6.86943084e-02,\n",
       "       -3.89535986e-02, -1.56344566e-02,  1.36722118e-01, -8.60156044e-02,\n",
       "       -1.07617900e-01,  6.62462786e-02,  7.11964071e-02, -1.19786542e-02,\n",
       "        4.13067788e-02,  6.84257075e-02, -1.03729784e-01,  2.76264697e-02,\n",
       "        6.67784214e-02, -5.82427047e-02,  6.72063902e-02, -2.16302350e-02,\n",
       "       -1.66015662e-02, -4.33258824e-02, -3.33329178e-02,  6.63034022e-02,\n",
       "       -1.86337847e-02, -2.69857906e-02, -7.55181909e-02, -4.72668521e-02,\n",
       "       -9.87201184e-02,  1.01779804e-01,  7.96881542e-02,  7.59631768e-03,\n",
       "        3.58115286e-02,  4.18465771e-02,  3.45157795e-02,  6.35584742e-02,\n",
       "       -3.19355330e-03,  4.35105711e-03,  4.57854345e-02, -6.41214699e-02,\n",
       "        5.76507635e-02, -2.30029896e-02, -1.00189686e-01,  1.73551850e-02,\n",
       "       -3.84642519e-02,  2.16200668e-02,  5.17143980e-02,  4.27528992e-02,\n",
       "        4.51149559e-03, -4.53713983e-02,  9.70568806e-02, -1.99679323e-02,\n",
       "       -8.67398679e-02, -7.04873800e-02, -1.31676152e-01,  6.79381788e-02,\n",
       "       -9.44987684e-02,  1.19943582e-02,  7.11449049e-03, -2.89493166e-02,\n",
       "        5.96066052e-03, -2.21612188e-03, -6.67421613e-03, -1.21971150e-03,\n",
       "       -3.85620951e-04,  8.76335874e-02,  3.75708006e-02,  4.60666418e-02,\n",
       "       -4.57000826e-03,  1.09435663e-01,  5.06518297e-02, -3.06687690e-02,\n",
       "        3.74485441e-02,  1.81854647e-02,  4.10617422e-03, -2.03263108e-02,\n",
       "        8.60004313e-03, -5.75292632e-02, -1.18584083e-02, -3.60480510e-02,\n",
       "        2.56297663e-02,  1.09856442e-01,  1.90846827e-02, -1.56482235e-02],\n",
       "      dtype=float32)"
      ]
     },
     "execution_count": 23,
     "metadata": {},
     "output_type": "execute_result"
    }
   ],
   "source": [
    "ftmodel2.get_sentence_vector('pes')"
   ]
  },
  {
   "cell_type": "code",
   "execution_count": 25,
   "metadata": {
    "collapsed": true
   },
   "outputs": [
    {
     "data": {
      "text/plain": [
       "array([ 4.00275216e-02,  2.81146914e-02,  1.33901704e-02, -1.82476081e-02,\n",
       "       -4.65330109e-02, -5.13640465e-03,  1.01567067e-01, -2.44819950e-02,\n",
       "        2.54845116e-02, -1.04111852e-02,  6.91427365e-02,  1.81085197e-03,\n",
       "       -1.83291268e-02,  2.95593496e-02, -3.10038142e-02, -7.11458623e-02,\n",
       "        1.72886774e-02,  2.77961828e-02, -4.17141691e-02, -6.32420108e-02,\n",
       "        3.18842903e-02,  1.04474593e-02, -2.79363357e-02,  9.81238950e-03,\n",
       "        5.80555163e-02, -7.59777799e-03, -4.22276333e-02,  5.36541268e-02,\n",
       "       -3.77881937e-02, -1.18482873e-01, -3.04954406e-02,  4.59765680e-02,\n",
       "       -2.99367569e-02, -1.03782024e-02,  3.90904304e-03, -3.39209065e-02,\n",
       "        2.22609192e-02,  7.32923253e-03, -9.89848655e-03,  9.23861191e-03,\n",
       "       -3.81879918e-02, -5.42033762e-02, -2.92862114e-02,  5.32729328e-02,\n",
       "        3.94654684e-02,  6.49303105e-03, -1.35319345e-02, -3.34074837e-03,\n",
       "       -3.73623185e-02, -2.41040299e-03,  3.76058370e-02, -8.91952403e-03,\n",
       "       -1.02717746e-02,  6.65952265e-02,  5.50434832e-03,  1.74705219e-03,\n",
       "       -1.37374736e-03, -1.23067051e-02,  3.58071923e-02, -1.06486455e-02,\n",
       "        1.88688040e-02, -2.80712806e-02,  4.21168618e-02,  8.26646239e-02,\n",
       "       -2.90611461e-02, -9.35995951e-04,  3.56277674e-02, -9.25878622e-03,\n",
       "       -4.88569662e-02,  2.14402787e-02,  2.57450975e-02, -2.09875591e-02,\n",
       "        1.55947851e-02, -1.03531711e-01,  1.47442962e-03,  1.77517999e-02,\n",
       "       -1.76618751e-02,  1.14489095e-02, -5.93458936e-02, -4.46276329e-02,\n",
       "       -1.37842130e-02,  3.06735896e-02, -1.91534683e-02,  2.03861613e-02,\n",
       "       -1.62157621e-02,  5.00155166e-02, -3.63556072e-02, -1.62854083e-02,\n",
       "       -3.03835608e-03,  4.66172323e-02,  2.71106642e-02, -1.81540567e-02,\n",
       "       -1.26027474e-02,  1.42173171e-02, -4.98564392e-02, -1.12522533e-03,\n",
       "        4.08799388e-02,  1.97902927e-03, -2.66088694e-02,  6.41082972e-03,\n",
       "        4.11419235e-02, -3.22012119e-02, -5.62244542e-02, -2.08604988e-03,\n",
       "       -2.39681173e-02,  1.09994859e-02,  5.74951991e-05, -5.66392206e-03,\n",
       "        2.59378925e-02, -6.64443448e-02, -3.30352820e-02,  8.35388675e-02,\n",
       "        2.52390057e-02, -4.73488495e-02, -2.42383648e-02, -1.25941681e-02,\n",
       "       -7.82482885e-03, -5.04844151e-02, -3.50134708e-02,  6.57486990e-02,\n",
       "        2.24968232e-03,  5.80993108e-03, -4.06033397e-02, -6.70268163e-02,\n",
       "       -1.93760470e-02,  3.97445038e-02, -5.05503155e-02,  2.63352320e-03,\n",
       "       -1.41237518e-02,  2.30593956e-04,  1.66581152e-03,  5.02072386e-02,\n",
       "       -3.42049226e-02, -1.91060957e-02, -1.77051630e-02, -2.97471881e-02,\n",
       "        3.87281105e-02,  6.89883083e-02,  4.21837345e-02,  7.93321803e-03,\n",
       "       -4.56829928e-03, -3.04811820e-02,  4.92741764e-02, -1.75348237e-01,\n",
       "       -3.35182697e-02, -2.17653289e-02, -1.35517642e-02, -5.75823858e-02,\n",
       "       -1.37683794e-01, -1.41221471e-02,  2.39036810e-02,  3.39334570e-02,\n",
       "       -6.89316727e-03, -4.02440801e-02, -5.13173267e-03, -1.10905264e-02,\n",
       "        3.87189677e-03, -3.80211547e-02,  5.83323129e-02,  1.08505525e-02,\n",
       "       -2.40514800e-03, -2.02852413e-02,  1.63963735e-02, -2.90309787e-02,\n",
       "       -6.32330999e-02, -5.10968566e-02, -2.34625470e-02,  5.57086840e-02,\n",
       "        4.26874496e-03,  2.99196765e-02,  1.71138607e-02, -1.08622313e-02,\n",
       "        5.48675284e-03,  5.82557470e-02,  4.76405397e-02,  4.61919941e-02,\n",
       "       -1.79327861e-03, -2.37485394e-04,  1.82203036e-02,  3.43695432e-02,\n",
       "       -1.17984731e-02,  3.95840816e-02, -1.04250014e-03, -6.56178826e-03,\n",
       "       -4.32356149e-02,  4.40931842e-02,  2.58108154e-02, -3.27866413e-02,\n",
       "        1.26261627e-02, -5.97856678e-02, -3.35543044e-02,  2.23373994e-02,\n",
       "        2.71088257e-03,  5.59593216e-02, -2.23237574e-02, -1.91401877e-03,\n",
       "       -5.92147280e-03,  4.78174537e-02,  3.36794816e-02,  1.88651122e-02,\n",
       "       -2.59629637e-02, -4.21160236e-02,  1.17295124e-02,  2.51021348e-02,\n",
       "        3.74705121e-02, -8.16001277e-03, -1.48676243e-02, -2.62952317e-02,\n",
       "       -3.48302908e-02,  9.79793165e-03,  1.13956705e-02,  2.44479836e-03,\n",
       "        3.42860296e-02, -2.52034236e-02, -1.85613148e-03, -4.24145311e-02,\n",
       "       -1.04860561e-02, -1.96671095e-02, -3.86489555e-02, -3.36039476e-02,\n",
       "       -3.35733742e-02, -4.47381735e-02,  5.95191121e-02, -6.23849109e-02,\n",
       "        5.40069863e-03,  4.33250293e-02,  2.96392869e-02,  1.19766872e-02,\n",
       "        1.05208554e-03,  1.51893012e-02, -3.52424271e-02,  7.45399436e-03,\n",
       "        8.81696045e-02,  1.14487812e-01,  2.76837125e-02, -1.70306545e-02,\n",
       "        1.35634206e-02,  1.70689188e-02,  1.03087492e-01, -1.87066812e-02,\n",
       "        1.14280665e-02,  6.88848086e-04, -1.62952300e-02, -8.29375256e-03,\n",
       "        1.82044394e-02, -8.13165680e-03,  7.39487559e-02,  2.15037800e-02,\n",
       "       -3.97370979e-02,  1.37036769e-02,  2.71286052e-02,  8.18053558e-02,\n",
       "        2.31072642e-02, -1.41979773e-02,  1.75870582e-02,  1.80389620e-02,\n",
       "        1.36994002e-02, -1.55160273e-03, -7.94719979e-02, -1.55122345e-03,\n",
       "        9.75249149e-03,  1.34632410e-02,  6.60012942e-03,  5.63833211e-03,\n",
       "       -3.10198124e-03,  2.04395335e-02,  3.09229493e-02, -5.10058701e-02,\n",
       "        1.20868972e-02, -7.30204768e-03, -2.84665562e-02, -1.45044681e-02,\n",
       "       -1.40857473e-02, -2.87785511e-02, -1.57937586e-01, -5.02606258e-02,\n",
       "        2.44008377e-02, -1.70049095e-03, -3.98605317e-02, -4.29539196e-02,\n",
       "       -3.03305164e-02,  4.94640097e-02,  5.37109002e-02, -1.30936047e-02,\n",
       "       -2.94645131e-03, -1.41287092e-02,  1.43878590e-02, -1.15972057e-01,\n",
       "        1.98816359e-02, -1.74855608e-02, -3.33026834e-02, -5.36720902e-02,\n",
       "        2.70933509e-02,  2.43610758e-02, -2.95177512e-02,  1.57988220e-02,\n",
       "        9.97430459e-02,  5.09369746e-03,  5.34007419e-03, -7.02984119e-03],\n",
       "      dtype=float32)"
      ]
     },
     "execution_count": 25,
     "metadata": {},
     "output_type": "execute_result"
    }
   ],
   "source": [
    "ftmodel2.get_sentence_vector('mám hezkého žlutého psa')"
   ]
  },
  {
   "cell_type": "code",
   "execution_count": 26,
   "metadata": {},
   "outputs": [
    {
     "data": {
      "text/plain": [
       "array([ 6.11417636e-05,  8.23663827e-03, -5.22053801e-04, -5.11732604e-03,\n",
       "       -6.82476023e-03, -4.44123428e-03,  1.21401297e-02, -4.04047692e-04,\n",
       "        2.38102698e-03, -5.20278700e-04, -1.03039318e-03,  3.11700394e-04,\n",
       "        1.17594087e-02, -9.82082356e-03, -8.12636968e-03,  4.03888756e-03,\n",
       "       -5.75271202e-03,  4.57962835e-03, -1.67881616e-03, -1.63012408e-02,\n",
       "        1.00360699e-02, -6.40457962e-03, -9.74510238e-03,  9.74437315e-03,\n",
       "        1.26562379e-02,  2.20758119e-03,  1.21648933e-04, -6.47571404e-04,\n",
       "        3.72477737e-03, -1.32272318e-02,  6.94467546e-03, -7.28271483e-03,\n",
       "       -1.62063278e-02,  3.58626782e-03,  4.58025327e-03, -1.06557822e-02,\n",
       "        7.57489179e-04,  1.35812405e-02, -3.81398387e-03,  8.99256766e-03,\n",
       "       -9.28559247e-03, -3.71225551e-03, -1.90083757e-02,  1.33154579e-02,\n",
       "       -5.33293514e-03,  6.43207924e-03, -3.99484113e-03,  9.19916853e-03,\n",
       "        8.54840782e-03,  1.38443429e-02,  1.51529219e-02, -2.12390884e-03,\n",
       "        7.10761966e-03,  1.87959913e-02, -3.67423729e-03, -1.04725175e-02,\n",
       "        1.14439512e-02, -4.64861421e-03, -5.41731296e-03, -1.99042703e-03,\n",
       "       -1.71037414e-03, -4.86060465e-03,  1.81649216e-02,  5.26297558e-03,\n",
       "        9.96114686e-04,  1.63968885e-03,  1.99588481e-02, -7.29791634e-03,\n",
       "       -4.49436763e-03,  1.17865959e-02, -6.56526675e-03,  3.77032137e-03,\n",
       "       -4.65470972e-03, -2.37193853e-02,  6.45346008e-03,  8.23508482e-03,\n",
       "       -9.73395817e-03, -4.34926199e-03,  1.46361708e-04,  2.51334393e-03,\n",
       "        3.46325338e-03,  1.05325622e-03, -2.77803484e-02,  8.44825408e-04,\n",
       "        5.00180479e-03, -4.08110791e-04, -1.88343022e-02,  4.67236154e-04,\n",
       "       -7.16060353e-03,  1.63253937e-02, -7.17598712e-03, -4.31006029e-03,\n",
       "       -1.10826790e-02, -3.25204711e-03,  6.05509896e-03, -4.39100340e-03,\n",
       "       -8.96213297e-03, -4.43255389e-03, -1.76127218e-02, -1.04831159e-02,\n",
       "        4.67327936e-03,  3.94963147e-03, -1.75636448e-02, -1.42055727e-03,\n",
       "       -7.31784478e-03, -6.53715280e-04,  7.39267981e-03, -7.36948103e-03,\n",
       "       -9.19297163e-04, -3.05219437e-03, -1.97283793e-02,  2.99889799e-02,\n",
       "        1.59940030e-02, -8.34382419e-03,  4.98691620e-03, -5.11616888e-03,\n",
       "       -1.09859966e-02, -4.05895011e-03,  1.04271593e-02,  8.71286634e-03,\n",
       "        1.15487240e-02, -1.51970780e-05, -2.95221135e-02, -2.48968881e-02,\n",
       "       -8.65366310e-03,  1.27927465e-02, -5.70973242e-03, -5.93442796e-03,\n",
       "        3.21150268e-03,  1.39949704e-02, -7.62530742e-03, -3.13750585e-03,\n",
       "       -1.52452756e-03,  8.69212393e-03, -7.90177193e-03, -4.12580883e-03,\n",
       "        4.76280414e-03,  1.21979006e-02,  1.35553360e-03,  8.13670084e-03,\n",
       "       -2.16588611e-03, -2.69352179e-03,  9.83985327e-03, -1.20603219e-02,\n",
       "       -1.22485776e-02,  5.36999246e-03, -3.31016281e-03, -3.78311233e-05,\n",
       "       -3.87676097e-02, -5.41384798e-03,  3.71818035e-03,  4.88360645e-03,\n",
       "       -3.22154025e-03, -1.27937840e-02, -8.15765653e-03,  5.48619917e-03,\n",
       "        5.18267183e-03, -1.07984701e-02, -2.13250518e-03,  8.46535061e-03,\n",
       "       -1.07003292e-02, -1.83313817e-03, -4.88063460e-03,  1.71014725e-03,\n",
       "        3.13422200e-03, -1.19256834e-02,  6.01989683e-03, -2.55065178e-03,\n",
       "       -5.59938373e-03,  5.81887271e-03,  8.74213409e-03,  3.62526480e-04,\n",
       "       -7.94783514e-03, -3.07711959e-03,  1.48862218e-02,  7.97480810e-03,\n",
       "       -2.46816641e-03, -1.02684658e-03, -1.00671938e-02,  1.07635185e-02,\n",
       "       -5.72556630e-03, -6.15512719e-03, -8.47299956e-03, -1.73705909e-03,\n",
       "       -1.01301596e-02, -7.43184937e-03,  5.79702668e-03,  7.89316371e-03,\n",
       "       -4.21317614e-04, -1.56064956e-02,  5.18483715e-03, -7.11988192e-03,\n",
       "       -5.06412820e-04,  1.65640991e-02, -9.04115848e-03,  1.70440786e-02,\n",
       "        3.48995067e-03,  4.51066904e-03,  7.92220142e-03,  6.49324432e-03,\n",
       "       -4.15352080e-03, -2.39169877e-03,  4.34761494e-03,  3.11373221e-03,\n",
       "        5.43964934e-03,  6.45671319e-03,  7.45272078e-03,  5.13291685e-04,\n",
       "        7.56020425e-03, -3.11650522e-03,  1.31591745e-02, -9.01018921e-03,\n",
       "        5.59396017e-03,  1.54178822e-02, -2.83511891e-03,  2.02328130e-03,\n",
       "       -1.17694614e-02, -4.11393074e-03,  3.89317749e-03, -1.43509386e-02,\n",
       "       -2.14238698e-03,  6.74824975e-03,  1.11297993e-02, -7.13988440e-03,\n",
       "        7.55408686e-03,  1.72920618e-02,  4.24978742e-03, -1.84861675e-03,\n",
       "        2.10502651e-03,  3.60164582e-03,  1.87362486e-03,  6.73552277e-03,\n",
       "        2.10695323e-02,  2.27934439e-02,  6.94253482e-03,  8.07152654e-04,\n",
       "       -4.72720340e-03,  7.55142100e-05,  1.37103461e-02, -1.03764851e-02,\n",
       "        1.27224326e-02, -7.96980318e-03, -3.50202201e-03, -1.46639405e-03,\n",
       "       -3.88258765e-03, -1.36316102e-03,  6.77202595e-03, -5.84240956e-03,\n",
       "       -5.76309767e-03,  2.09908769e-03, -6.55413233e-03,  1.71473641e-02,\n",
       "        9.34095355e-04, -6.83874590e-04, -3.83521803e-03,  1.91598490e-03,\n",
       "       -1.07131954e-02,  8.29870813e-03, -1.99178569e-02,  1.94018940e-03,\n",
       "       -6.62913593e-03, -1.87366479e-03, -5.42637659e-03, -4.84372070e-03,\n",
       "        1.17879463e-02,  6.09794119e-03,  1.15816889e-03,  1.11665325e-02,\n",
       "       -2.80776666e-03,  9.18800477e-03, -1.03128180e-02, -6.49684062e-03,\n",
       "        2.00903062e-02, -1.35491707e-03,  3.56644712e-04,  4.92230151e-03,\n",
       "        9.47727531e-04, -5.18144388e-03, -1.23039773e-02, -1.33296766e-03,\n",
       "       -1.01831311e-03,  1.72298513e-02,  4.74177394e-03, -1.46394372e-02,\n",
       "       -2.83381250e-03,  3.93702276e-03, -7.08570238e-03, -5.99812623e-03,\n",
       "        4.63255448e-03, -1.19601963e-02, -8.57774168e-03, -1.28239440e-02,\n",
       "        1.15110762e-02,  5.06984768e-03, -6.94132783e-03,  9.68484581e-03,\n",
       "        2.78639067e-02,  1.74441549e-03,  2.17708148e-04, -5.57295280e-03],\n",
       "      dtype=float32)"
      ]
     },
     "execution_count": 26,
     "metadata": {},
     "output_type": "execute_result"
    }
   ],
   "source": [
    "ftmodel2.get_word_vector('mám hezkého žlutého psa')"
   ]
  },
  {
   "cell_type": "code",
   "execution_count": 9,
   "metadata": {},
   "outputs": [
    {
     "ename": "NameError",
     "evalue": "name 'ftmodel' is not defined",
     "output_type": "error",
     "traceback": [
      "\u001b[1;31m---------------------------------------------------------------------------\u001b[0m",
      "\u001b[1;31mNameError\u001b[0m                                 Traceback (most recent call last)",
      "\u001b[1;32m<ipython-input-9-f60c4d743ef2>\u001b[0m in \u001b[0;36m<module>\u001b[1;34m\u001b[0m\n\u001b[1;32m----> 1\u001b[1;33m \u001b[0mnumpy\u001b[0m\u001b[1;33m.\u001b[0m\u001b[0mlinalg\u001b[0m\u001b[1;33m.\u001b[0m\u001b[0mnorm\u001b[0m\u001b[1;33m(\u001b[0m\u001b[0mftmodel\u001b[0m\u001b[1;33m[\u001b[0m\u001b[1;34m'automobil'\u001b[0m\u001b[1;33m]\u001b[0m \u001b[1;33m-\u001b[0m \u001b[0mftmodel\u001b[0m\u001b[1;33m[\u001b[0m\u001b[1;34m'osobní vůz'\u001b[0m\u001b[1;33m]\u001b[0m\u001b[1;33m)\u001b[0m\u001b[1;33m\u001b[0m\u001b[1;33m\u001b[0m\u001b[0m\n\u001b[0m",
      "\u001b[1;31mNameError\u001b[0m: name 'ftmodel' is not defined"
     ]
    }
   ],
   "source": [
    "numpy.linalg.norm(ftmodel['automobil'] - ftmodel['osobní vůz'])"
   ]
  },
  {
   "cell_type": "code",
   "execution_count": 2,
   "metadata": {
    "collapsed": true
   },
   "outputs": [
    {
     "name": "stderr",
     "output_type": "stream",
     "text": [
      "C:\\x\\diplomka\\research\\researchenv\\lib\\site-packages\\ipykernel_launcher.py:1: DeprecationWarning: Call to deprecated `load_fasttext_format` (use load_facebook_vectors (to use pretrained embeddings) or load_facebook_model (to continue training with the loaded full model, more RAM) instead).\n",
      "  \"\"\"Entry point for launching an IPython kernel.\n"
     ]
    },
    {
     "data": {
      "text/plain": [
       "<gensim.models.fasttext.FastText at 0x1bd7ca08e48>"
      ]
     },
     "execution_count": 2,
     "metadata": {},
     "output_type": "execute_result"
    }
   ],
   "source": [
    "ftmodel = gensim.models.FastText.load_fasttext_format('fasttext/cc.cs.300.bin')\n",
    "ftmodel"
   ]
  },
  {
   "cell_type": "code",
   "execution_count": 11,
   "metadata": {
    "scrolled": true
   },
   "outputs": [
    {
     "name": "stderr",
     "output_type": "stream",
     "text": [
      "C:\\x\\diplomka\\research\\researchenv\\lib\\site-packages\\ipykernel_launcher.py:1: DeprecationWarning: Call to deprecated `__getitem__` (Method will be removed in 4.0.0, use self.wv.__getitem__() instead).\n",
      "  \"\"\"Entry point for launching an IPython kernel.\n"
     ]
    },
    {
     "data": {
      "text/plain": [
       "array([ 3.50985974e-02, -5.04605472e-03, -3.19778845e-02, -1.27138332e-01,\n",
       "        6.54838160e-02, -2.35059354e-02,  2.33508229e-01, -2.17888355e-02,\n",
       "       -2.19157338e-01,  1.16614953e-01, -8.44471455e-02, -8.51622447e-02,\n",
       "       -4.71264981e-02,  1.27684444e-01, -9.18781906e-02, -1.50643975e-01,\n",
       "        1.22504547e-01,  8.26932788e-02,  8.27983394e-02, -8.30178112e-02,\n",
       "       -1.21429674e-02,  5.07118218e-02,  6.97170198e-03, -1.69049148e-02,\n",
       "       -6.02188446e-02, -1.14216186e-01, -2.02800602e-01,  1.75772738e-02,\n",
       "       -3.10905203e-02, -2.98842639e-02, -2.57130146e-01,  8.87810886e-02,\n",
       "        1.25467218e-02, -1.39928788e-01,  1.48580834e-01,  3.87761667e-02,\n",
       "       -4.27381434e-02,  5.04903495e-03,  1.24494880e-01,  4.74659577e-02,\n",
       "       -1.14616990e-01, -1.00901842e-01,  2.84647904e-02,  1.85851216e-01,\n",
       "        1.17499620e-01,  8.86817053e-02, -2.28305936e-01, -8.30656365e-02,\n",
       "       -1.01898253e-01, -7.16145039e-02,  2.15689898e-01, -1.80715859e-01,\n",
       "       -4.38175946e-02,  2.19017074e-01,  6.22998923e-05,  2.41400972e-01,\n",
       "        1.67249478e-02, -6.57361075e-02,  1.49134040e-01,  5.85451350e-02,\n",
       "        9.93824080e-02,  4.64422069e-02,  1.16556264e-01, -9.07933041e-02,\n",
       "       -7.71034732e-02, -4.47699875e-02,  4.55765389e-02, -1.51353851e-02,\n",
       "       -2.35770956e-01, -2.37063486e-02,  6.47841915e-02,  4.95981798e-02,\n",
       "        7.64106214e-02, -5.05683571e-03,  4.24859151e-02, -2.40539014e-03,\n",
       "        1.65730761e-03,  2.74378955e-02,  5.69395721e-02, -1.44708022e-01,\n",
       "        1.81393981e-01,  8.98058787e-02, -1.29189909e-01,  4.04758193e-02,\n",
       "        2.79686414e-04,  9.59414691e-02,  1.13064736e-01, -3.24025452e-02,\n",
       "       -3.72551084e-02,  7.10211471e-02, -1.69242173e-02,  5.89372478e-02,\n",
       "        4.54556644e-02,  1.96194053e-01, -1.70929655e-01, -1.79337673e-02,\n",
       "        4.01374102e-01,  1.05400216e-02, -5.05161360e-02, -7.42295906e-02,\n",
       "        1.73075959e-01, -1.15885111e-02, -2.06374407e-01, -1.30020112e-01,\n",
       "       -1.19318962e-01, -5.53655885e-02,  9.77233127e-02, -9.73613709e-02,\n",
       "        4.50758822e-02,  2.00380292e-02, -4.89406735e-02,  1.94564834e-01,\n",
       "        1.80116519e-01,  1.24847844e-01, -7.91177601e-02, -8.83614868e-02,\n",
       "        1.02433443e-01, -2.08474129e-01, -1.98084518e-01,  2.39725158e-01,\n",
       "       -8.54597688e-02,  1.60223059e-02, -2.42617965e-01, -9.39173698e-02,\n",
       "       -1.13149725e-01,  9.48013887e-02, -6.57596141e-02, -1.06625132e-01,\n",
       "       -2.03487724e-01, -1.08648866e-01, -9.18199960e-03,  1.27231210e-01,\n",
       "        6.16880581e-02,  4.49162394e-01, -1.13028839e-01, -3.41399796e-02,\n",
       "        7.84417987e-03,  1.65540874e-01, -1.15509704e-01, -6.29293472e-02,\n",
       "       -2.92816442e-02,  5.64262271e-03,  5.51455170e-02, -1.63624585e-02,\n",
       "       -1.37173608e-01, -2.45960765e-02,  3.87738422e-02, -1.00733012e-01,\n",
       "       -2.53676206e-01, -2.48956103e-02,  1.21378541e-01,  2.75203198e-01,\n",
       "       -3.70464474e-02,  1.87834546e-01, -1.37482844e-02, -1.77106693e-01,\n",
       "        8.37410241e-02, -1.28921747e-01, -8.70832801e-03,  3.57788131e-02,\n",
       "        5.83723709e-02, -5.90776652e-02, -5.73389828e-02,  2.76890676e-02,\n",
       "        9.41762552e-02, -1.48787171e-01,  6.49356917e-02,  1.13538399e-01,\n",
       "       -5.38046435e-02, -9.07550454e-02,  1.26078576e-01, -4.74537127e-02,\n",
       "        5.76848537e-02,  1.51152551e-01,  1.56198908e-03, -3.22010219e-02,\n",
       "       -1.02932669e-01,  1.58506200e-01, -6.59072623e-02,  2.18619511e-01,\n",
       "        1.14233121e-01,  7.15726092e-02, -2.00989872e-01,  2.97171697e-02,\n",
       "       -2.69099146e-01, -5.76225147e-02, -8.89930055e-02, -1.53588086e-01,\n",
       "        2.07584992e-01, -1.16492458e-01, -2.75137961e-01,  8.63742679e-02,\n",
       "       -1.60706267e-02, -1.01487890e-01,  1.21783391e-01,  8.18073750e-04,\n",
       "       -3.88231762e-02,  3.04146484e-02, -1.53798923e-01, -3.76264192e-02,\n",
       "       -1.44946456e-01, -9.59800184e-02,  1.19090907e-01, -8.12590029e-03,\n",
       "        1.23342440e-01,  6.22441806e-02, -1.36182252e-02,  1.40743032e-02,\n",
       "       -2.15295833e-02,  1.77176818e-02,  1.13945827e-02,  4.61224839e-02,\n",
       "        1.67633757e-01, -4.99510989e-02, -1.14618942e-01, -1.65457383e-01,\n",
       "       -3.40730734e-02,  1.08211990e-02, -1.33259967e-01, -1.41542435e-01,\n",
       "       -8.02626535e-02, -3.22142988e-02,  2.81711578e-01, -1.77232414e-01,\n",
       "       -2.21743256e-01,  1.36498347e-01,  1.46697938e-01, -2.46816352e-02,\n",
       "        8.51113051e-02,  1.40988991e-01, -2.13731930e-01,  5.69234639e-02,\n",
       "        1.37594819e-01, -1.20007239e-01,  1.38476625e-01, -4.45684120e-02,\n",
       "       -3.42069976e-02, -8.92716050e-02, -6.86814189e-02,  1.36616051e-01,\n",
       "       -3.83943208e-02, -5.56033626e-02, -1.55602828e-01, -9.73918438e-02,\n",
       "       -2.03409672e-01,  2.09714055e-01,  1.64194912e-01,  1.56519711e-02,\n",
       "        7.37885162e-02,  8.62235427e-02,  7.11186677e-02,  1.30960211e-01,\n",
       "       -6.58021495e-03,  8.96521471e-03,  9.43394303e-02, -1.32120252e-01,\n",
       "        1.18787564e-01, -4.73969281e-02, -2.06437662e-01,  3.57598066e-02,\n",
       "       -7.92543665e-02,  4.45474610e-02,  1.06555872e-01,  8.80909860e-02,\n",
       "        9.29579325e-03, -9.34863240e-02,  1.99982613e-01, -4.11432907e-02,\n",
       "       -1.78724736e-01, -1.45236999e-01, -2.71314532e-01,  1.39984459e-01,\n",
       "       -1.94711700e-01,  2.47139931e-02,  1.46591812e-02, -5.96491471e-02,\n",
       "        1.22817513e-02, -4.56624851e-03, -1.37520097e-02, -2.51317676e-03,\n",
       "       -7.94559717e-04,  1.80566221e-01,  7.74134398e-02,  9.49188471e-02,\n",
       "       -9.41635668e-03,  2.25488707e-01,  1.04366481e-01, -6.31920248e-02,\n",
       "        7.71615356e-02,  3.74705717e-02,  8.46064184e-03, -4.18817177e-02,\n",
       "        1.77201163e-02, -1.18537217e-01, -2.44338736e-02, -7.42758662e-02,\n",
       "        5.28093167e-02,  2.26355702e-01,  3.93233821e-02, -3.22426669e-02],\n",
       "      dtype=float32)"
      ]
     },
     "execution_count": 11,
     "metadata": {},
     "output_type": "execute_result"
    }
   ],
   "source": [
    "ftmodel['pes']"
   ]
  },
  {
   "cell_type": "code",
   "execution_count": 6,
   "metadata": {},
   "outputs": [
    {
     "name": "stderr",
     "output_type": "stream",
     "text": [
      "C:\\x\\diplomka\\research\\researchenv\\lib\\site-packages\\ipykernel_launcher.py:1: DeprecationWarning: Call to deprecated `__getitem__` (Method will be removed in 4.0.0, use self.wv.__getitem__() instead).\n",
      "  \"\"\"Entry point for launching an IPython kernel.\n"
     ]
    },
    {
     "data": {
      "text/plain": [
       "array([ 6.11417636e-05,  8.23663827e-03, -5.22053801e-04, -5.11732604e-03,\n",
       "       -6.82476023e-03, -4.44123382e-03,  1.21401297e-02, -4.04047692e-04,\n",
       "        2.38102698e-03, -5.20278700e-04, -1.03039318e-03,  3.11700394e-04,\n",
       "        1.17594087e-02, -9.82082356e-03, -8.12636968e-03,  4.03888756e-03,\n",
       "       -5.75271202e-03,  4.57962835e-03, -1.67881604e-03, -1.63012408e-02,\n",
       "        1.00360699e-02, -6.40457962e-03, -9.74510238e-03,  9.74437315e-03,\n",
       "        1.26562370e-02,  2.20758119e-03,  1.21648933e-04, -6.47571404e-04,\n",
       "        3.72477737e-03, -1.32272318e-02,  6.94467546e-03, -7.28271483e-03,\n",
       "       -1.62063278e-02,  3.58626782e-03,  4.58025327e-03, -1.06557822e-02,\n",
       "        7.57489179e-04,  1.35812405e-02, -3.81398387e-03,  8.99256766e-03,\n",
       "       -9.28559154e-03, -3.71225527e-03, -1.90083757e-02,  1.33154579e-02,\n",
       "       -5.33293514e-03,  6.43207924e-03, -3.99484113e-03,  9.19916760e-03,\n",
       "        8.54840688e-03,  1.38443429e-02,  1.51529210e-02, -2.12390884e-03,\n",
       "        7.10761966e-03,  1.87959913e-02, -3.67423706e-03, -1.04725165e-02,\n",
       "        1.14439502e-02, -4.64861421e-03, -5.41731296e-03, -1.99042703e-03,\n",
       "       -1.71037414e-03, -4.86060465e-03,  1.81649216e-02,  5.26297558e-03,\n",
       "        9.96114686e-04,  1.63968885e-03,  1.99588481e-02, -7.29791587e-03,\n",
       "       -4.49436763e-03,  1.17865959e-02, -6.56526629e-03,  3.77032114e-03,\n",
       "       -4.65470972e-03, -2.37193853e-02,  6.45346008e-03,  8.23508482e-03,\n",
       "       -9.73395817e-03, -4.34926199e-03,  1.46361708e-04,  2.51334393e-03,\n",
       "        3.46325338e-03,  1.05325622e-03, -2.77803484e-02,  8.44825408e-04,\n",
       "        5.00180479e-03, -4.08110791e-04, -1.88343022e-02,  4.67236154e-04,\n",
       "       -7.16060307e-03,  1.63253937e-02, -7.17598712e-03, -4.31006029e-03,\n",
       "       -1.10826790e-02, -3.25204711e-03,  6.05509896e-03, -4.39100340e-03,\n",
       "       -8.96213297e-03, -4.43255389e-03, -1.76127218e-02, -1.04831159e-02,\n",
       "        4.67327936e-03,  3.94963147e-03, -1.75636448e-02, -1.42055727e-03,\n",
       "       -7.31784478e-03, -6.53715280e-04,  7.39267981e-03, -7.36948056e-03,\n",
       "       -9.19297163e-04, -3.05219414e-03, -1.97283775e-02,  2.99889781e-02,\n",
       "        1.59940030e-02, -8.34382419e-03,  4.98691574e-03, -5.11616888e-03,\n",
       "       -1.09859956e-02, -4.05895011e-03,  1.04271593e-02,  8.71286541e-03,\n",
       "        1.15487231e-02, -1.51970780e-05, -2.95221116e-02, -2.48968881e-02,\n",
       "       -8.65366310e-03,  1.27927465e-02, -5.70973242e-03, -5.93442796e-03,\n",
       "        3.21150245e-03,  1.39949704e-02, -7.62530742e-03, -3.13750585e-03,\n",
       "       -1.52452756e-03,  8.69212300e-03, -7.90177099e-03, -4.12580883e-03,\n",
       "        4.76280414e-03,  1.21979006e-02,  1.35553349e-03,  8.13669991e-03,\n",
       "       -2.16588611e-03, -2.69352156e-03,  9.83985234e-03, -1.20603219e-02,\n",
       "       -1.22485776e-02,  5.36999246e-03, -3.31016281e-03, -3.78311197e-05,\n",
       "       -3.87676060e-02, -5.41384751e-03,  3.71818035e-03,  4.88360645e-03,\n",
       "       -3.22154025e-03, -1.27937840e-02, -8.15765653e-03,  5.48619917e-03,\n",
       "        5.18267183e-03, -1.07984701e-02, -2.13250518e-03,  8.46535061e-03,\n",
       "       -1.07003283e-02, -1.83313817e-03, -4.88063460e-03,  1.71014725e-03,\n",
       "        3.13422200e-03, -1.19256834e-02,  6.01989683e-03, -2.55065155e-03,\n",
       "       -5.59938373e-03,  5.81887271e-03,  8.74213409e-03,  3.62526480e-04,\n",
       "       -7.94783514e-03, -3.07711959e-03,  1.48862218e-02,  7.97480810e-03,\n",
       "       -2.46816617e-03, -1.02684658e-03, -1.00671938e-02,  1.07635185e-02,\n",
       "       -5.72556630e-03, -6.15512673e-03, -8.47299863e-03, -1.73705909e-03,\n",
       "       -1.01301596e-02, -7.43184891e-03,  5.79702668e-03,  7.89316371e-03,\n",
       "       -4.21317614e-04, -1.56064956e-02,  5.18483715e-03, -7.11988192e-03,\n",
       "       -5.06412820e-04,  1.65640973e-02, -9.04115848e-03,  1.70440786e-02,\n",
       "        3.48995067e-03,  4.51066904e-03,  7.92220049e-03,  6.49324432e-03,\n",
       "       -4.15352080e-03, -2.39169854e-03,  4.34761494e-03,  3.11373221e-03,\n",
       "        5.43964934e-03,  6.45671273e-03,  7.45272078e-03,  5.13291627e-04,\n",
       "        7.56020425e-03, -3.11650522e-03,  1.31591745e-02, -9.01018828e-03,\n",
       "        5.59396017e-03,  1.54178822e-02, -2.83511891e-03,  2.02328130e-03,\n",
       "       -1.17694614e-02, -4.11393074e-03,  3.89317749e-03, -1.43509377e-02,\n",
       "       -2.14238698e-03,  6.74824975e-03,  1.11297984e-02, -7.13988440e-03,\n",
       "        7.55408686e-03,  1.72920618e-02,  4.24978742e-03, -1.84861675e-03,\n",
       "        2.10502627e-03,  3.60164582e-03,  1.87362486e-03,  6.73552277e-03,\n",
       "        2.10695323e-02,  2.27934439e-02,  6.94253482e-03,  8.07152595e-04,\n",
       "       -4.72720340e-03,  7.55142100e-05,  1.37103451e-02, -1.03764851e-02,\n",
       "        1.27224326e-02, -7.96980318e-03, -3.50202201e-03, -1.46639405e-03,\n",
       "       -3.88258765e-03, -1.36316102e-03,  6.77202549e-03, -5.84240956e-03,\n",
       "       -5.76309767e-03,  2.09908746e-03, -6.55413233e-03,  1.71473641e-02,\n",
       "        9.34095355e-04, -6.83874590e-04, -3.83521803e-03,  1.91598490e-03,\n",
       "       -1.07131954e-02,  8.29870813e-03, -1.99178569e-02,  1.94018940e-03,\n",
       "       -6.62913546e-03, -1.87366479e-03, -5.42637659e-03, -4.84372070e-03,\n",
       "        1.17879463e-02,  6.09794119e-03,  1.15816889e-03,  1.11665325e-02,\n",
       "       -2.80776666e-03,  9.18800477e-03, -1.03128180e-02, -6.49684016e-03,\n",
       "        2.00903062e-02, -1.35491707e-03,  3.56644712e-04,  4.92230151e-03,\n",
       "        9.47727531e-04, -5.18144388e-03, -1.23039763e-02, -1.33296754e-03,\n",
       "       -1.01831311e-03,  1.72298513e-02,  4.74177394e-03, -1.46394372e-02,\n",
       "       -2.83381226e-03,  3.93702276e-03, -7.08570238e-03, -5.99812623e-03,\n",
       "        4.63255402e-03, -1.19601954e-02, -8.57774168e-03, -1.28239440e-02,\n",
       "        1.15110762e-02,  5.06984768e-03, -6.94132783e-03,  9.68484581e-03,\n",
       "        2.78639048e-02,  1.74441538e-03,  2.17708133e-04, -5.57295280e-03],\n",
       "      dtype=float32)"
      ]
     },
     "execution_count": 6,
     "metadata": {},
     "output_type": "execute_result"
    }
   ],
   "source": [
    "ftmodel['mám hezkého žlutého psa']"
   ]
  },
  {
   "cell_type": "code",
   "execution_count": 10,
   "metadata": {},
   "outputs": [
    {
     "data": {
      "text/plain": [
       "array([ 3.50985974e-02, -5.04605472e-03, -3.19778845e-02, -1.27138332e-01,\n",
       "        6.54838160e-02, -2.35059354e-02,  2.33508229e-01, -2.17888355e-02,\n",
       "       -2.19157338e-01,  1.16614953e-01, -8.44471455e-02, -8.51622447e-02,\n",
       "       -4.71264981e-02,  1.27684444e-01, -9.18781906e-02, -1.50643975e-01,\n",
       "        1.22504547e-01,  8.26932788e-02,  8.27983394e-02, -8.30178112e-02,\n",
       "       -1.21429674e-02,  5.07118218e-02,  6.97170198e-03, -1.69049148e-02,\n",
       "       -6.02188446e-02, -1.14216186e-01, -2.02800602e-01,  1.75772738e-02,\n",
       "       -3.10905203e-02, -2.98842639e-02, -2.57130146e-01,  8.87810886e-02,\n",
       "        1.25467218e-02, -1.39928788e-01,  1.48580834e-01,  3.87761667e-02,\n",
       "       -4.27381434e-02,  5.04903495e-03,  1.24494880e-01,  4.74659577e-02,\n",
       "       -1.14616990e-01, -1.00901842e-01,  2.84647904e-02,  1.85851216e-01,\n",
       "        1.17499620e-01,  8.86817053e-02, -2.28305936e-01, -8.30656365e-02,\n",
       "       -1.01898253e-01, -7.16145039e-02,  2.15689898e-01, -1.80715859e-01,\n",
       "       -4.38175946e-02,  2.19017074e-01,  6.22998923e-05,  2.41400972e-01,\n",
       "        1.67249478e-02, -6.57361075e-02,  1.49134040e-01,  5.85451350e-02,\n",
       "        9.93824080e-02,  4.64422069e-02,  1.16556264e-01, -9.07933041e-02,\n",
       "       -7.71034732e-02, -4.47699875e-02,  4.55765389e-02, -1.51353851e-02,\n",
       "       -2.35770956e-01, -2.37063486e-02,  6.47841915e-02,  4.95981798e-02,\n",
       "        7.64106214e-02, -5.05683571e-03,  4.24859151e-02, -2.40539014e-03,\n",
       "        1.65730761e-03,  2.74378955e-02,  5.69395721e-02, -1.44708022e-01,\n",
       "        1.81393981e-01,  8.98058787e-02, -1.29189909e-01,  4.04758193e-02,\n",
       "        2.79686414e-04,  9.59414691e-02,  1.13064736e-01, -3.24025452e-02,\n",
       "       -3.72551084e-02,  7.10211471e-02, -1.69242173e-02,  5.89372478e-02,\n",
       "        4.54556644e-02,  1.96194053e-01, -1.70929655e-01, -1.79337673e-02,\n",
       "        4.01374102e-01,  1.05400216e-02, -5.05161360e-02, -7.42295906e-02,\n",
       "        1.73075959e-01, -1.15885111e-02, -2.06374407e-01, -1.30020112e-01,\n",
       "       -1.19318962e-01, -5.53655885e-02,  9.77233127e-02, -9.73613709e-02,\n",
       "        4.50758822e-02,  2.00380292e-02, -4.89406735e-02,  1.94564834e-01,\n",
       "        1.80116519e-01,  1.24847844e-01, -7.91177601e-02, -8.83614868e-02,\n",
       "        1.02433443e-01, -2.08474129e-01, -1.98084518e-01,  2.39725158e-01,\n",
       "       -8.54597688e-02,  1.60223059e-02, -2.42617965e-01, -9.39173698e-02,\n",
       "       -1.13149725e-01,  9.48013887e-02, -6.57596141e-02, -1.06625132e-01,\n",
       "       -2.03487724e-01, -1.08648866e-01, -9.18199960e-03,  1.27231210e-01,\n",
       "        6.16880581e-02,  4.49162394e-01, -1.13028839e-01, -3.41399796e-02,\n",
       "        7.84417987e-03,  1.65540874e-01, -1.15509704e-01, -6.29293472e-02,\n",
       "       -2.92816442e-02,  5.64262271e-03,  5.51455170e-02, -1.63624585e-02,\n",
       "       -1.37173608e-01, -2.45960765e-02,  3.87738422e-02, -1.00733012e-01,\n",
       "       -2.53676206e-01, -2.48956103e-02,  1.21378541e-01,  2.75203198e-01,\n",
       "       -3.70464474e-02,  1.87834546e-01, -1.37482844e-02, -1.77106693e-01,\n",
       "        8.37410241e-02, -1.28921747e-01, -8.70832801e-03,  3.57788131e-02,\n",
       "        5.83723709e-02, -5.90776652e-02, -5.73389828e-02,  2.76890676e-02,\n",
       "        9.41762552e-02, -1.48787171e-01,  6.49356917e-02,  1.13538399e-01,\n",
       "       -5.38046435e-02, -9.07550454e-02,  1.26078576e-01, -4.74537127e-02,\n",
       "        5.76848537e-02,  1.51152551e-01,  1.56198908e-03, -3.22010219e-02,\n",
       "       -1.02932669e-01,  1.58506200e-01, -6.59072623e-02,  2.18619511e-01,\n",
       "        1.14233121e-01,  7.15726092e-02, -2.00989872e-01,  2.97171697e-02,\n",
       "       -2.69099146e-01, -5.76225147e-02, -8.89930055e-02, -1.53588086e-01,\n",
       "        2.07584992e-01, -1.16492458e-01, -2.75137961e-01,  8.63742679e-02,\n",
       "       -1.60706267e-02, -1.01487890e-01,  1.21783391e-01,  8.18073750e-04,\n",
       "       -3.88231762e-02,  3.04146484e-02, -1.53798923e-01, -3.76264192e-02,\n",
       "       -1.44946456e-01, -9.59800184e-02,  1.19090907e-01, -8.12590029e-03,\n",
       "        1.23342440e-01,  6.22441806e-02, -1.36182252e-02,  1.40743032e-02,\n",
       "       -2.15295833e-02,  1.77176818e-02,  1.13945827e-02,  4.61224839e-02,\n",
       "        1.67633757e-01, -4.99510989e-02, -1.14618942e-01, -1.65457383e-01,\n",
       "       -3.40730734e-02,  1.08211990e-02, -1.33259967e-01, -1.41542435e-01,\n",
       "       -8.02626535e-02, -3.22142988e-02,  2.81711578e-01, -1.77232414e-01,\n",
       "       -2.21743256e-01,  1.36498347e-01,  1.46697938e-01, -2.46816352e-02,\n",
       "        8.51113051e-02,  1.40988991e-01, -2.13731930e-01,  5.69234639e-02,\n",
       "        1.37594819e-01, -1.20007239e-01,  1.38476625e-01, -4.45684120e-02,\n",
       "       -3.42069976e-02, -8.92716050e-02, -6.86814189e-02,  1.36616051e-01,\n",
       "       -3.83943208e-02, -5.56033626e-02, -1.55602828e-01, -9.73918438e-02,\n",
       "       -2.03409672e-01,  2.09714055e-01,  1.64194912e-01,  1.56519711e-02,\n",
       "        7.37885162e-02,  8.62235427e-02,  7.11186677e-02,  1.30960211e-01,\n",
       "       -6.58021495e-03,  8.96521471e-03,  9.43394303e-02, -1.32120252e-01,\n",
       "        1.18787564e-01, -4.73969281e-02, -2.06437662e-01,  3.57598066e-02,\n",
       "       -7.92543665e-02,  4.45474610e-02,  1.06555872e-01,  8.80909860e-02,\n",
       "        9.29579325e-03, -9.34863240e-02,  1.99982613e-01, -4.11432907e-02,\n",
       "       -1.78724736e-01, -1.45236999e-01, -2.71314532e-01,  1.39984459e-01,\n",
       "       -1.94711700e-01,  2.47139931e-02,  1.46591812e-02, -5.96491471e-02,\n",
       "        1.22817513e-02, -4.56624851e-03, -1.37520097e-02, -2.51317676e-03,\n",
       "       -7.94559717e-04,  1.80566221e-01,  7.74134398e-02,  9.49188471e-02,\n",
       "       -9.41635668e-03,  2.25488707e-01,  1.04366481e-01, -6.31920248e-02,\n",
       "        7.71615356e-02,  3.74705717e-02,  8.46064184e-03, -4.18817177e-02,\n",
       "        1.77201163e-02, -1.18537217e-01, -2.44338736e-02, -7.42758662e-02,\n",
       "        5.28093167e-02,  2.26355702e-01,  3.93233821e-02, -3.22426669e-02],\n",
       "      dtype=float32)"
      ]
     },
     "execution_count": 10,
     "metadata": {},
     "output_type": "execute_result"
    }
   ],
   "source": [
    "ftmodel.wv['pes']"
   ]
  },
  {
   "cell_type": "code",
   "execution_count": 92,
   "metadata": {},
   "outputs": [
    {
     "name": "stderr",
     "output_type": "stream",
     "text": [
      "2019-11-09 13:26:57,996 INFO: precomputing L2-norms of word weight vectors\n",
      "2019-11-09 13:27:59,903 INFO: precomputing L2-norms of ngram weight vectors\n"
     ]
    }
   ],
   "source": [
    "ftmodel.init_sims(True)"
   ]
  },
  {
   "cell_type": "code",
   "execution_count": 93,
   "metadata": {},
   "outputs": [
    {
     "name": "stderr",
     "output_type": "stream",
     "text": [
      "c:\\users\\mvancl\\documents\\temp\\diplomka\\research\\pcrenv64\\lib\\site-packages\\ipykernel_launcher.py:1: DeprecationWarning: Call to deprecated `wmdistance` (Method will be removed in 4.0.0, use self.wv.wmdistance() instead).\n",
      "  \"\"\"Entry point for launching an IPython kernel.\n",
      "2019-11-09 13:31:51,501 INFO: Removed 1 and 2 OOV words from document 1 and 2 (respectively).\n",
      "2019-11-09 13:31:51,520 INFO: adding document #0 to Dictionary(0 unique tokens: [])\n",
      "2019-11-09 13:31:51,525 INFO: built Dictionary(19 unique tokens: ['a', 'b', 'i', 'l', 'm']...) from 2 documents (total 35 corpus positions)\n"
     ]
    },
    {
     "data": {
      "text/plain": [
       "0.43326079731659234"
      ]
     },
     "execution_count": 93,
     "metadata": {},
     "output_type": "execute_result"
    }
   ],
   "source": [
    "ftmodel.wmdistance('rozbitý automobil', 'porouchaný osobní vůz')"
   ]
  },
  {
   "cell_type": "code",
   "execution_count": 94,
   "metadata": {},
   "outputs": [
    {
     "name": "stderr",
     "output_type": "stream",
     "text": [
      "c:\\users\\mvancl\\documents\\temp\\diplomka\\research\\pcrenv64\\lib\\site-packages\\ipykernel_launcher.py:1: DeprecationWarning: Call to deprecated `wmdistance` (Method will be removed in 4.0.0, use self.wv.wmdistance() instead).\n",
      "  \"\"\"Entry point for launching an IPython kernel.\n",
      "2019-11-09 13:31:53,789 INFO: adding document #0 to Dictionary(0 unique tokens: [])\n",
      "2019-11-09 13:31:53,790 INFO: built Dictionary(2 unique tokens: ['rozbitý automobil', 'porouchaný osobní vůz']) from 2 documents (total 2 corpus positions)\n"
     ]
    },
    {
     "data": {
      "text/plain": [
       "0.3405744433403015"
      ]
     },
     "execution_count": 94,
     "metadata": {},
     "output_type": "execute_result"
    }
   ],
   "source": [
    "ftmodel.wmdistance(['rozbitý automobil'], ['porouchaný osobní vůz'])"
   ]
  },
  {
   "cell_type": "code",
   "execution_count": 40,
   "metadata": {},
   "outputs": [],
   "source": [
    "prague = 'Praha (německy Prag; v jiných jazycích často Prague či Praga) je hlavní a současně největší město Česka a 15. největší město Evropské unie. Leží mírně na sever od středu Čech na řece Vltavě, uvnitř Středočeského kraje, jehož je správním centrem, ale jako samostatný kraj není jeho součástí. Je sídlem velké části státních institucí a množství dalších organizací a firem. Sídlí zde prezident republiky, parlament, vláda, ústřední státní orgány a jeden ze dvou vrchních soudů. Mimoto je Praha sídlem řady dalších úřadů, jak ústředních, tak i územních samosprávných celků; sídlí zde též ústředí většiny politických stran, hnutí a iniciativ a centrály téměř všech církví, náboženských a dalších sdružení s celorepublikovou působností registrovaných v ČR. '\n",
    "berlin = 'Berlín (německy Berlin) je hlavní město Německa a zároveň i spolková země Spolkové republiky Německo. Hlavním městem Německa se stal roku 1991 a od sjednocení Německa (a tím i obou částí města) Berlín patří k největším městům v Evropě a je druhým největším městem Evropské unie. Žije zde přibližně 3,613 milionu[1] obyvatel. '\n",
    "zeman = 'Miloš Zeman (* 28. září 1944 Kolín) je český politik, ekonom, prognostik a třetí prezident České republiky. Úřadu se poprvé ujal složením slibu 8. března 2013 a druhé funkční období zahájil přesně o pět let později. V období 1993–2001 působil jako předseda České strany sociálně demokratické. V letech 1996–1998 zastával funkci předsedy Poslanecké sněmovny Parlamentu České republiky a následující čtyři roky byl předsedou sociálnědemokratické vlády menšinového charakteru, jejíž existence byla umožněna na základě tzv. „opoziční smlouvy“ s Občanskou demokratickou stranou. '"
   ]
  },
  {
   "cell_type": "code",
   "execution_count": 52,
   "metadata": {},
   "outputs": [],
   "source": [
    "prague_cleared = 'praha německy prag v jiných jazycích často prague praga je hlavní současně největší město česka 15. největší město evropské unie leží mírně sever středu čech řece vltavě uvnitř středočeského kraje je správním centrem samostatný kraj není součástí je sídlem velké části státních institucí množství dalších organizací firem sídlí zde prezident republiky parlament vláda ústřední státní orgány jeden dvou vrchních soudů je praha sídlem řady dalších úřadů ústředních územních samosprávných celků sídlí zde ústředí většiny politických stran hnutí iniciativ centrály všech církví náboženských dalších sdružení celorepublikovou působností registrovaných v čr'\n",
    "berlin_cleared = 'berlín německy berlin je hlavní město německa zároveň spolková země spolkové republiky německo hlavním městem německa se stal roku 1991 sjednocení německa obou částí města berlín patří největším městům v evropě je druhým největším městem evropské unie žije zde přibližně 3,613 milionu obyvatel'\n",
    "zeman_cleared = 'miloš zeman * 28. září 1944 kolín je český politik ekonom prognostik třetí prezident české republiky úřadu se poprvé ujal složením slibu 8. března 2013 druhé funkční období zahájil přesně pět let později'\n",
    "zeman_cleared_long = 'miloš zeman * 28. září 1944 kolín je český politik ekonom prognostik třetí prezident české republiky úřadu se poprvé ujal složením slibu 8. března 2013 druhé funkční období zahájil přesně pět let později období 1993-2001 působil předseda české strany sociálně demokratické letech 1996–1998 zastával funkci předsedy poslanecké sněmovny parlamentu české republiky následující čtyři roky byl předsedou sociálnědemokratické vlády menšinového charakteru existence byla umožněna základě opoziční smlouvy občanskou demokratickou stranou'"
   ]
  },
  {
   "cell_type": "code",
   "execution_count": 95,
   "metadata": {},
   "outputs": [
    {
     "name": "stderr",
     "output_type": "stream",
     "text": [
      "c:\\users\\mvancl\\documents\\temp\\diplomka\\research\\pcrenv64\\lib\\site-packages\\ipykernel_launcher.py:1: DeprecationWarning: Call to deprecated `wmdistance` (Method will be removed in 4.0.0, use self.wv.wmdistance() instead).\n",
      "  \"\"\"Entry point for launching an IPython kernel.\n",
      "2019-11-09 13:32:04,236 INFO: Removed 88 and 42 OOV words from document 1 and 2 (respectively).\n",
      "2019-11-09 13:32:04,238 INFO: adding document #0 to Dictionary(0 unique tokens: [])\n",
      "2019-11-09 13:32:04,243 INFO: built Dictionary(42 unique tokens: ['.', '1', '5', 'a', 'b']...) from 2 documents (total 814 corpus positions)\n"
     ]
    },
    {
     "data": {
      "text/plain": [
       "0.19701468985040538"
      ]
     },
     "execution_count": 95,
     "metadata": {},
     "output_type": "execute_result"
    }
   ],
   "source": [
    "ftmodel.wmdistance(prague_cleared, berlin_cleared)"
   ]
  },
  {
   "cell_type": "code",
   "execution_count": 96,
   "metadata": {},
   "outputs": [
    {
     "name": "stderr",
     "output_type": "stream",
     "text": [
      "c:\\users\\mvancl\\documents\\temp\\diplomka\\research\\pcrenv64\\lib\\site-packages\\ipykernel_launcher.py:1: DeprecationWarning: Call to deprecated `wmdistance` (Method will be removed in 4.0.0, use self.wv.wmdistance() instead).\n",
      "  \"\"\"Entry point for launching an IPython kernel.\n",
      "2019-11-09 13:32:12,389 INFO: adding document #0 to Dictionary(0 unique tokens: [])\n",
      "2019-11-09 13:32:12,392 INFO: built Dictionary(105 unique tokens: ['15.', 'celků', 'celorepublikovou', 'centrem', 'centrály']...) from 2 documents (total 132 corpus positions)\n"
     ]
    },
    {
     "data": {
      "text/plain": [
       "0.9690416386421717"
      ]
     },
     "execution_count": 96,
     "metadata": {},
     "output_type": "execute_result"
    }
   ],
   "source": [
    "ftmodel.wmdistance(tokenize.word_tokenize(prague_cleared), tokenize.word_tokenize(berlin_cleared))"
   ]
  },
  {
   "cell_type": "code",
   "execution_count": 97,
   "metadata": {},
   "outputs": [
    {
     "name": "stderr",
     "output_type": "stream",
     "text": [
      "c:\\users\\mvancl\\documents\\temp\\diplomka\\research\\pcrenv64\\lib\\site-packages\\ipykernel_launcher.py:1: DeprecationWarning: Call to deprecated `wmdistance` (Method will be removed in 4.0.0, use self.wv.wmdistance() instead).\n",
      "  \"\"\"Entry point for launching an IPython kernel.\n",
      "2019-11-09 13:32:22,136 INFO: Removed 42 and 68 OOV words from document 1 and 2 (respectively).\n",
      "2019-11-09 13:32:22,137 INFO: adding document #0 to Dictionary(0 unique tokens: [])\n",
      "2019-11-09 13:32:22,140 INFO: built Dictionary(49 unique tokens: [',', '1', '3', '6', '9']...) from 2 documents (total 712 corpus positions)\n"
     ]
    },
    {
     "data": {
      "text/plain": [
       "0.19634454204361407"
      ]
     },
     "execution_count": 97,
     "metadata": {},
     "output_type": "execute_result"
    }
   ],
   "source": [
    "ftmodel.wmdistance(berlin_cleared, zeman_cleared_long)"
   ]
  },
  {
   "cell_type": "code",
   "execution_count": 99,
   "metadata": {},
   "outputs": [
    {
     "name": "stderr",
     "output_type": "stream",
     "text": [
      "c:\\users\\mvancl\\documents\\temp\\diplomka\\research\\pcrenv64\\lib\\site-packages\\ipykernel_launcher.py:1: DeprecationWarning: Call to deprecated `wmdistance` (Method will be removed in 4.0.0, use self.wv.wmdistance() instead).\n",
      "  \"\"\"Entry point for launching an IPython kernel.\n",
      "2019-11-09 13:32:48,876 INFO: adding document #0 to Dictionary(0 unique tokens: [])\n",
      "2019-11-09 13:32:48,878 INFO: built Dictionary(99 unique tokens: ['1991', '3,613', 'berlin', 'berlín', 'druhým']...) from 2 documents (total 112 corpus positions)\n"
     ]
    },
    {
     "data": {
      "text/plain": [
       "1.1316418169048859"
      ]
     },
     "execution_count": 99,
     "metadata": {},
     "output_type": "execute_result"
    }
   ],
   "source": [
    "ftmodel.wmdistance(tokenize.word_tokenize(berlin_cleared), tokenize.word_tokenize(zeman_cleared_long))"
   ]
  },
  {
   "cell_type": "code",
   "execution_count": 100,
   "metadata": {},
   "outputs": [
    {
     "name": "stderr",
     "output_type": "stream",
     "text": [
      "c:\\users\\mvancl\\documents\\temp\\diplomka\\research\\pcrenv64\\lib\\site-packages\\ipykernel_launcher.py:1: DeprecationWarning: Call to deprecated `wmdistance` (Method will be removed in 4.0.0, use self.wv.wmdistance() instead).\n",
      "  \"\"\"Entry point for launching an IPython kernel.\n",
      "2019-11-09 13:33:00,498 INFO: adding document #0 to Dictionary(0 unique tokens: [])\n",
      "2019-11-09 13:33:00,500 INFO: built Dictionary(139 unique tokens: ['15.', 'celků', 'celorepublikovou', 'centrem', 'centrály']...) from 2 documents (total 158 corpus positions)\n"
     ]
    },
    {
     "data": {
      "text/plain": [
       "1.1357497102982925"
      ]
     },
     "execution_count": 100,
     "metadata": {},
     "output_type": "execute_result"
    }
   ],
   "source": [
    "ftmodel.wmdistance(tokenize.word_tokenize(prague_cleared), tokenize.word_tokenize(zeman_cleared_long))"
   ]
  },
  {
   "cell_type": "code",
   "execution_count": 101,
   "metadata": {},
   "outputs": [
    {
     "name": "stderr",
     "output_type": "stream",
     "text": [
      "c:\\users\\mvancl\\documents\\temp\\diplomka\\research\\pcrenv64\\lib\\site-packages\\ipykernel_launcher.py:1: DeprecationWarning: Call to deprecated `wmdistance` (Method will be removed in 4.0.0, use self.wv.wmdistance() instead).\n",
      "  \"\"\"Entry point for launching an IPython kernel.\n",
      "2019-11-09 13:33:05,758 INFO: adding document #0 to Dictionary(0 unique tokens: [])\n",
      "2019-11-09 13:33:05,759 INFO: built Dictionary(3 unique tokens: ['havel', 'václav', 'prague']) from 2 documents (total 3 corpus positions)\n"
     ]
    },
    {
     "data": {
      "text/plain": [
       "1.1472067816445828"
      ]
     },
     "execution_count": 101,
     "metadata": {},
     "output_type": "execute_result"
    }
   ],
   "source": [
    "ftmodel.wmdistance(['václav','havel'], ['prague'])"
   ]
  },
  {
   "cell_type": "code",
   "execution_count": 58,
   "metadata": {},
   "outputs": [
    {
     "name": "stderr",
     "output_type": "stream",
     "text": [
      "c:\\users\\mvancl\\documents\\temp\\diplomka\\research\\pcrenv64\\lib\\site-packages\\ipykernel_launcher.py:1: DeprecationWarning: Call to deprecated `most_similar` (Method will be removed in 4.0.0, use self.wv.most_similar() instead).\n",
      "  \"\"\"Entry point for launching an IPython kernel.\n",
      "2019-11-09 10:59:06,354 INFO: precomputing L2-norms of word weight vectors\n",
      "2019-11-09 11:02:26,799 INFO: precomputing L2-norms of ngram weight vectors\n",
      "c:\\users\\mvancl\\documents\\temp\\diplomka\\research\\pcrenv64\\lib\\site-packages\\gensim\\matutils.py:737: FutureWarning: Conversion of the second argument of issubdtype from `int` to `np.signedinteger` is deprecated. In future, it will be treated as `np.int32 == np.dtype(int).type`.\n",
      "  if np.issubdtype(vec.dtype, np.int):\n"
     ]
    },
    {
     "data": {
      "text/plain": [
       "[('zemané', 0.6708066463470459),\n",
       " ('zemanovský', 0.6586387157440186),\n",
       " ('zemana', 0.6548796892166138),\n",
       " ('zemanovec', 0.6425000429153442),\n",
       " ('zemanů', 0.6334505677223206),\n",
       " ('zemanský', 0.6306949853897095),\n",
       " ('zemanům', 0.6305753588676453),\n",
       " ('zemanovská', 0.6292722225189209),\n",
       " ('zemanovské', 0.6257205009460449),\n",
       " ('zemanovcům', 0.6248170137405396)]"
      ]
     },
     "execution_count": 58,
     "metadata": {},
     "output_type": "execute_result"
    }
   ],
   "source": [
    "ftmodel.most_similar(['zeman'])"
   ]
  },
  {
   "cell_type": "code",
   "execution_count": 59,
   "metadata": {},
   "outputs": [
    {
     "name": "stderr",
     "output_type": "stream",
     "text": [
      "c:\\users\\mvancl\\documents\\temp\\diplomka\\research\\pcrenv64\\lib\\site-packages\\ipykernel_launcher.py:1: DeprecationWarning: Call to deprecated `most_similar` (Method will be removed in 4.0.0, use self.wv.most_similar() instead).\n",
      "  \"\"\"Entry point for launching an IPython kernel.\n"
     ]
    },
    {
     "data": {
      "text/plain": [
       "[('gtmZeman', 0.7986787557601929),\n",
       " ('.Zeman', 0.7924207448959351),\n",
       " ('Zeman.', 0.782761812210083),\n",
       " ('M.Zeman', 0.7652435302734375),\n",
       " ('58Zeman', 0.7376464009284973),\n",
       " ('25Zeman', 0.7279771566390991),\n",
       " ('hlasůZeman', 0.7132811546325684),\n",
       " ('Sobotka', 0.7005442380905151),\n",
       " ('Zemanovec', 0.6974204778671265),\n",
       " ('Zemana', 0.6958152651786804)]"
      ]
     },
     "execution_count": 59,
     "metadata": {},
     "output_type": "execute_result"
    }
   ],
   "source": [
    "ftmodel.most_similar(['Zeman'])"
   ]
  },
  {
   "cell_type": "code",
   "execution_count": 60,
   "metadata": {},
   "outputs": [
    {
     "name": "stderr",
     "output_type": "stream",
     "text": [
      "c:\\users\\mvancl\\documents\\temp\\diplomka\\research\\pcrenv64\\lib\\site-packages\\ipykernel_launcher.py:1: DeprecationWarning: Call to deprecated `most_similar` (Method will be removed in 4.0.0, use self.wv.most_similar() instead).\n",
      "  \"\"\"Entry point for launching an IPython kernel.\n"
     ]
    },
    {
     "data": {
      "text/plain": [
       "[('gtmZeman', 0.6926430463790894),\n",
       " ('DostálováMasérkaJindra', 0.6825854182243347),\n",
       " ('25Zeman', 0.6752279996871948),\n",
       " ('Karlštějn', 0.6739051342010498),\n",
       " ('Machovský-Vrbka', 0.6715472936630249),\n",
       " ('Karlštej', 0.6706434488296509),\n",
       " ('KarlštejnKLADNOMěstské', 0.664710283279419),\n",
       " ('boudyKněžiceKocbeřeKošovKošťálovKřenovKřížliceKundratice',\n",
       "  0.6556413173675537),\n",
       " ('SobieskiVojtaVoky29VšelicosWoxyszoe1997ZorinkaZuz', 0.6530987024307251),\n",
       " ('Karlštejn.Další', 0.6529257893562317)]"
      ]
     },
     "execution_count": 60,
     "metadata": {},
     "output_type": "execute_result"
    }
   ],
   "source": [
    "ftmodel.most_similar(['Miloš Zeman'])"
   ]
  },
  {
   "cell_type": "code",
   "execution_count": 61,
   "metadata": {},
   "outputs": [
    {
     "name": "stderr",
     "output_type": "stream",
     "text": [
      "c:\\users\\mvancl\\documents\\temp\\diplomka\\research\\pcrenv64\\lib\\site-packages\\ipykernel_launcher.py:1: DeprecationWarning: Call to deprecated `most_similar` (Method will be removed in 4.0.0, use self.wv.most_similar() instead).\n",
      "  \"\"\"Entry point for launching an IPython kernel.\n"
     ]
    },
    {
     "data": {
      "text/plain": [
       "[('Zeman.', 0.73337721824646),\n",
       " ('gtmZeman', 0.6753553152084351),\n",
       " ('.Zeman', 0.6681327819824219),\n",
       " ('M.Zeman', 0.6440125703811646),\n",
       " ('Klaus.', 0.6333649158477783),\n",
       " ('Havel', 0.6274571418762207),\n",
       " ('58Zeman', 0.6218777894973755),\n",
       " ('ZemanMiloš', 0.62071692943573),\n",
       " ('25Zeman', 0.610581636428833),\n",
       " ('Zemanec', 0.6085720658302307)]"
      ]
     },
     "execution_count": 61,
     "metadata": {},
     "output_type": "execute_result"
    }
   ],
   "source": [
    "ftmodel.most_similar(['Miloš', 'Zeman'])"
   ]
  },
  {
   "cell_type": "code",
   "execution_count": 105,
   "metadata": {},
   "outputs": [
    {
     "name": "stderr",
     "output_type": "stream",
     "text": [
      "2019-11-08 12:25:48,675 INFO: char embedding size: 2710\n",
      "2019-11-08 12:25:50,104 INFO: word embedding size: 281663\n",
      "2019-11-08 12:25:54,819 INFO: Model(\n",
      "  (token_embedder): ConvTokenEmbedder(\n",
      "    (word_emb_layer): EmbeddingLayer(\n",
      "      (embedding): Embedding(281663, 100, padding_idx=3)\n",
      "    )\n",
      "    (char_emb_layer): EmbeddingLayer(\n",
      "      (embedding): Embedding(2710, 50, padding_idx=2707)\n",
      "    )\n",
      "    (convolutions): ModuleList(\n",
      "      (0): Conv1d(50, 32, kernel_size=(1,), stride=(1,))\n",
      "      (1): Conv1d(50, 32, kernel_size=(2,), stride=(1,))\n",
      "      (2): Conv1d(50, 64, kernel_size=(3,), stride=(1,))\n",
      "      (3): Conv1d(50, 128, kernel_size=(4,), stride=(1,))\n",
      "      (4): Conv1d(50, 256, kernel_size=(5,), stride=(1,))\n",
      "      (5): Conv1d(50, 512, kernel_size=(6,), stride=(1,))\n",
      "      (6): Conv1d(50, 1024, kernel_size=(7,), stride=(1,))\n",
      "    )\n",
      "    (highways): Highway(\n",
      "      (_layers): ModuleList(\n",
      "        (0): Linear(in_features=2048, out_features=4096, bias=True)\n",
      "        (1): Linear(in_features=2048, out_features=4096, bias=True)\n",
      "      )\n",
      "    )\n",
      "    (projection): Linear(in_features=2148, out_features=512, bias=True)\n",
      "  )\n",
      "  (encoder): ElmobiLm(\n",
      "    (forward_layer_0): LstmCellWithProjection(\n",
      "      (input_linearity): Linear(in_features=512, out_features=16384, bias=False)\n",
      "      (state_linearity): Linear(in_features=512, out_features=16384, bias=True)\n",
      "      (state_projection): Linear(in_features=4096, out_features=512, bias=False)\n",
      "    )\n",
      "    (backward_layer_0): LstmCellWithProjection(\n",
      "      (input_linearity): Linear(in_features=512, out_features=16384, bias=False)\n",
      "      (state_linearity): Linear(in_features=512, out_features=16384, bias=True)\n",
      "      (state_projection): Linear(in_features=4096, out_features=512, bias=False)\n",
      "    )\n",
      "    (forward_layer_1): LstmCellWithProjection(\n",
      "      (input_linearity): Linear(in_features=512, out_features=16384, bias=False)\n",
      "      (state_linearity): Linear(in_features=512, out_features=16384, bias=True)\n",
      "      (state_projection): Linear(in_features=4096, out_features=512, bias=False)\n",
      "    )\n",
      "    (backward_layer_1): LstmCellWithProjection(\n",
      "      (input_linearity): Linear(in_features=512, out_features=16384, bias=False)\n",
      "      (state_linearity): Linear(in_features=512, out_features=16384, bias=True)\n",
      "      (state_projection): Linear(in_features=4096, out_features=512, bias=False)\n",
      "    )\n",
      "  )\n",
      ")\n"
     ]
    }
   ],
   "source": [
    "e = Embedder(model_dir='C:\\\\Users\\\\mvancl\\\\Documents\\\\temp\\\\diplomka\\\\research\\\\elmo\\\\139')"
   ]
  },
  {
   "cell_type": "code",
   "execution_count": 433,
   "metadata": {},
   "outputs": [],
   "source": [
    "sents = [['po', 'silnici', 'jede', 'zelený', 'bagr'],\n",
    "         ['po', 'cestě', 'jede', 'zelený', 'traktor'],\n",
    "        ['zelený', 'bagr', 'jede', 'po', 'silnici'],\n",
    "        ['nechci', 'se', 'na', 'to', 'dívat']]"
   ]
  },
  {
   "cell_type": "code",
   "execution_count": 431,
   "metadata": {},
   "outputs": [],
   "source": [
    "sents = [['po silnici jede zelený bagr'],\n",
    "         ['po cestě jede zelený traktor'],\n",
    "        ['zelený bagr jede po silnici'],\n",
    "        ['nechci se na to dívat']]"
   ]
  },
  {
   "cell_type": "code",
   "execution_count": 348,
   "metadata": {},
   "outputs": [],
   "source": [
    "sents = [['silnice'], ['silnice']]"
   ]
  },
  {
   "cell_type": "code",
   "execution_count": 273,
   "metadata": {},
   "outputs": [
    {
     "name": "stderr",
     "output_type": "stream",
     "text": [
      "2019-11-08 13:43:16,936 INFO: 1 batches, avg len: 3.0\n"
     ]
    }
   ],
   "source": [
    "elmovecs = e.sents2elmo(sents)"
   ]
  },
  {
   "cell_type": "code",
   "execution_count": 434,
   "metadata": {},
   "outputs": [
    {
     "name": "stderr",
     "output_type": "stream",
     "text": [
      "2019-11-08 13:56:02,087 INFO: 1 batches, avg len: 7.0\n"
     ]
    },
    {
     "data": {
      "text/plain": [
       "13.402337"
      ]
     },
     "execution_count": 434,
     "metadata": {},
     "output_type": "execute_result"
    }
   ],
   "source": [
    "elmovecs = e.sents2elmo(sents)\n",
    "numpy.linalg.norm(elmovecs[0] - elmovecs[1])"
   ]
  }
 ],
 "metadata": {
  "kernelspec": {
   "display_name": "researchenv",
   "language": "python",
   "name": "researchenv"
  },
  "language_info": {
   "codemirror_mode": {
    "name": "ipython",
    "version": 3
   },
   "file_extension": ".py",
   "mimetype": "text/x-python",
   "name": "python",
   "nbconvert_exporter": "python",
   "pygments_lexer": "ipython3",
   "version": "3.7.5"
  }
 },
 "nbformat": 4,
 "nbformat_minor": 2
}
